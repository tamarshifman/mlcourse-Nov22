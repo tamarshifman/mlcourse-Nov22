{
  "cells": [
    {
      "cell_type": "markdown",
      "metadata": {
        "id": "ezpLq3LQeK3j"
      },
      "source": [
        "<a href=\"https://githubtocolab.com/alevant/mlcourse-Nov22/blob/main/numpy.ipynb\" target=\"_parent\"><img src=\"https://colab.research.google.com/assets/colab-badge.svg\" alt=\"Open in Colab\"/></a>"
      ]
    },
    {
      "cell_type": "markdown",
      "metadata": {
        "id": "sXFSXjxSd6nJ"
      },
      "source": [
        "# Numerical Python: NumPy\n",
        "\n",
        "[NumPy](http://www.numpy.org/) NumPy is the fundamental package for scientific computing in Python. It is a Python library that provides a multidimensional array object, various derived objects (such as masked arrays and matrices), and an assortment of routines for fast operations on arrays, including mathematical, logical, shape manipulation, sorting, selecting, I/O, discrete Fourier transforms, basic linear algebra, basic statistical operations, random simulation and much more.\n",
        "\n",
        "[![Numpy logo](https://matplotlib.org/stable/_images/sphx_glr_voxels_numpy_logo_001.png)](https://matplotlib.org/stable/gallery/mplot3d/voxels_numpy_logo.html)"
      ]
    },
    {
      "cell_type": "markdown",
      "metadata": {
        "id": "FYw7XlJGd6nK"
      },
      "source": [
        "# Importing NumPy\n",
        "\n",
        "The convention is `import numpy as np`. This loads the entire NumPy package once, and uses an alias `np` so that we don't pollute our code with too much `numpy`.\n",
        "\n",
        "Some people like to do `from numpy import *`. This is frowned-upon as it pollutes the namespace: it overrides the default `sum` and hides the fact that we are using specific `numpy` functions.\n",
        "\n",
        "If you only need specific NumPy objects you can load them using `from numpy import array, ones` etc."
      ]
    },
    {
      "cell_type": "code",
      "execution_count": 1,
      "metadata": {
        "id": "XVwxQDKsd6nM",
        "outputId": "12b4e564-27fc-43ef-ebc4-fedf2636d07f",
        "colab": {
          "base_uri": "https://localhost:8080/"
        }
      },
      "outputs": [
        {
          "output_type": "stream",
          "name": "stdout",
          "text": [
            "Numpy version: 1.21.6\n"
          ]
        }
      ],
      "source": [
        "import numpy as np\n",
        "print(\"Numpy version:\", np.__version__)"
      ]
    },
    {
      "cell_type": "code",
      "execution_count": 2,
      "metadata": {
        "colab": {
          "base_uri": "https://localhost:8080/"
        },
        "id": "Jf4gcbMgzss3",
        "outputId": "54358495-cf32-4ab4-e193-1fc433ca4942"
      },
      "outputs": [
        {
          "output_type": "stream",
          "name": "stdout",
          "text": [
            "Cloning into 'mlcourse'...\n",
            "remote: Enumerating objects: 58, done.\u001b[K\n",
            "remote: Counting objects: 100% (58/58), done.\u001b[K\n",
            "remote: Compressing objects: 100% (55/55), done.\u001b[K\n",
            "remote: Total 58 (delta 18), reused 0 (delta 0), pack-reused 0\u001b[K\n",
            "Unpacking objects: 100% (58/58), done.\n"
          ]
        }
      ],
      "source": [
        "!git clone https://github.com/alevant/mlcourse-Nov22 mlcourse"
      ]
    },
    {
      "cell_type": "markdown",
      "metadata": {
        "id": "XxaUzfydd6nO"
      },
      "source": [
        "#### __NumPy’s main object is the _homogeneous_ multidimensional array.__\n",
        "\n",
        "Dimensions are called axes. \n",
        "\n",
        "* A vector is an array of one dimension\n",
        "* A 2D matrix is an array with two dimensions."
      ]
    },
    {
      "cell_type": "markdown",
      "metadata": {
        "id": "DXe3oK8dd6nb",
        "toc-hr-collapsed": false
      },
      "source": [
        "# Analyzing Patient Data\n",
        "\n",
        "We are studying inflammation in patients who have been given a new treatment for arthritis, and need to analyze the first dozen data sets. \n",
        "\n",
        "The data sets are stored in comma-separated values (CSV) format: each row holds information for a single patient, and the columns represent successive days. \n",
        "\n",
        "The first few rows of our data file look like this:\n",
        "\n",
        "> 0,0,1,3,1,2,4,7,8,3,3,3,10,5,7,4,7,7,12,18,6,13,11,11,7,7,4,6,8,8,4,4,5,7,3,4,2,3,0,0\n",
        "0,1,2,1,2,1,3,2,2,6,10,11,5,9,4,4,7,16,8,6,18,4,12,5,12,7,11,5,11,3,3,5,4,4,5,5,1,1,0,1\n",
        "0,1,1,3,3,2,6,2,5,9,5,7,4,5,4,15,5,11,9,10,19,14,12,17,7,12,11,7,4,2,10,5,4,2,2,3,2,2,1,1\n",
        "0,0,2,0,4,2,2,1,6,7,10,7,9,13,8,8,15,10,10,7,17,4,4,7,6,15,6,4,9,11,3,5,6,3,3,4,2,3,2,1\n",
        "0,1,1,3,3,1,3,5,2,4,4,7,6,5,3,10,8,10,6,17,9,14,9,7,13,9,12,6,7,7,9,6,3,2,2,4,2,0,1,1\n"
      ]
    },
    {
      "cell_type": "markdown",
      "metadata": {
        "id": "PT8VgFgrd6nb"
      },
      "source": [
        "## Loading data from file"
      ]
    },
    {
      "cell_type": "markdown",
      "metadata": {
        "id": "quCDu4Bod6nc"
      },
      "source": [
        "We read the file into a NumPy array - the new data structure which is the center of all scientific Python."
      ]
    },
    {
      "cell_type": "code",
      "execution_count": 3,
      "metadata": {
        "colab": {
          "base_uri": "https://localhost:8080/"
        },
        "id": "b5K0fYg4d6nc",
        "outputId": "6bdc6bf9-61ca-4db9-f397-7b62f8404823"
      },
      "outputs": [
        {
          "output_type": "stream",
          "name": "stdout",
          "text": [
            "[[0. 0. 1. ... 3. 0. 0.]\n",
            " [0. 1. 2. ... 1. 0. 1.]\n",
            " [0. 1. 1. ... 2. 1. 1.]\n",
            " ...\n",
            " [0. 1. 1. ... 1. 1. 1.]\n",
            " [0. 0. 0. ... 0. 2. 0.]\n",
            " [0. 0. 1. ... 1. 1. 0.]]\n"
          ]
        }
      ],
      "source": [
        "fname = \"./mlcourse/data/inflammation-01.csv\"\n",
        "data = np.loadtxt(fname, delimiter=',')\n",
        "print(data)"
      ]
    },
    {
      "cell_type": "markdown",
      "metadata": {
        "id": "KOm_w9y2d6nc"
      },
      "source": [
        "The expression `np.loadtxt(...)` is a function call that asks Python to run the function `loadtxt` that belongs to the `numpy` library. \n",
        "\n",
        "`numpy.loadtxt` has two arguments: the name of the file we want to read, and the delimiter that separates values on a line. These arguments need to be strings.\n",
        "\n",
        "We saved the output of `loadtxt` to the variable `data`.\n",
        "When we `print(data)`, only a few rows and columns are shown (with `...` to omit elements when displaying big arrays).\n",
        "To save space, Python displays numbers as `1.` instead of `1.0` when there's nothing interesting after the decimal point.\n",
        "\n",
        "### Other ways to load data from files\n",
        "\n",
        "- [np.load](https://docs.scipy.org/doc/numpy/reference/generated/numpy.load.html): Load arrays or [pickled](https://docs.python.org/3/library/pickle.html?highlight=pickle#module-pickle) objects from pickled files, saved using `np.save` with the extension `.npy` or `.npz` (the latter for gzip compressed files).\n",
        "- [np.genfromtxt](https://docs.scipy.org/doc/numpy/reference/generated/numpy.genfromtxt.html): provides more sophisticated handling of, e.g. lines with missing values.\n",
        "\n",
        "There are some more special I/O functions in [scipy.io](https://docs.scipy.org/doc/scipy/reference/io.html), for example for reading MATLAB data files and audio files, and [imageio](http://imageio.github.io) for reading image files."
      ]
    },
    {
      "cell_type": "markdown",
      "metadata": {
        "id": "PojK6k1ud6nd"
      },
      "source": [
        "## Manipulating Data\n",
        "\n",
        "Now that our data is in memory, we can start doing things with it. First, let's ask what type of thing data refers to:"
      ]
    },
    {
      "cell_type": "code",
      "execution_count": 4,
      "metadata": {
        "id": "K3mzWUavd6ne",
        "outputId": "73c49454-a36f-49a3-de09-7dc3c3ac0722",
        "colab": {
          "base_uri": "https://localhost:8080/"
        }
      },
      "outputs": [
        {
          "output_type": "stream",
          "name": "stdout",
          "text": [
            "<class 'numpy.ndarray'>\n"
          ]
        }
      ],
      "source": [
        "print(type(data))"
      ]
    },
    {
      "cell_type": "markdown",
      "metadata": {
        "id": "ug7EMq_8d6ne"
      },
      "source": [
        "The output tells us that data currently refers to an N-dimensional array created by the NumPy library. We can see what its shape is like this:"
      ]
    },
    {
      "cell_type": "code",
      "execution_count": 5,
      "metadata": {
        "id": "F548RvATd6nf",
        "outputId": "8cd870c5-a456-4582-dbd5-1a314f01da0b",
        "colab": {
          "base_uri": "https://localhost:8080/"
        }
      },
      "outputs": [
        {
          "output_type": "stream",
          "name": "stdout",
          "text": [
            "number of dimensions: 2\n",
            "shape of array: (60, 40)\n",
            "size of array: 2400\n"
          ]
        }
      ],
      "source": [
        "print('number of dimensions:', data.ndim)\n",
        "print('shape of array:', data.shape)\n",
        "print('size of array:', data.size)\n",
        "\n",
        "n_patients, n_days = data.shape"
      ]
    },
    {
      "cell_type": "markdown",
      "metadata": {
        "id": "07Hwsruzd6nf"
      },
      "source": [
        "This tells us that `data` has 60 rows and 40 columns, which are 60 patients and 40 days. \n",
        "\n",
        "`data.shape` is a member of `data`, i.e. a value that is stored as part of an object, an attribute.\n",
        "\n",
        "If we want to get a single value from the matrix, we must provide an index in square brackets, just as we do with a `list`, but with as many indices as the number of dimensions - `ndim` (two in this case):"
      ]
    },
    {
      "cell_type": "code",
      "execution_count": 6,
      "metadata": {
        "id": "z75AdnDnd6ng",
        "outputId": "b98a5647-8db0-41c9-dfd6-0876538e0134",
        "colab": {
          "base_uri": "https://localhost:8080/"
        }
      },
      "outputs": [
        {
          "output_type": "stream",
          "name": "stdout",
          "text": [
            "first value in data 0.0\n",
            "middle value in data: 13.0\n",
            "last value in data: 0.0\n"
          ]
        }
      ],
      "source": [
        "print(\"first value in data\", data[0,0])\n",
        "print(\"middle value in data:\", data[30, 20])\n",
        "print(\"last value in data:\", data[-1, -1])"
      ]
    },
    {
      "cell_type": "markdown",
      "metadata": {
        "id": "8BliqLj9d6nh"
      },
      "source": [
        "Just like with `list` and `str`, if we have an M×N array in Python, its indices go from 0 to M-1 on the first axis and 0 to N-1 on the second. \n",
        "\n",
        "It takes a bit of getting used to, but one way to remember the rule is that the index is how many steps we have to take from the start to get the item we want.\n",
        "\n",
        "> **In the Corner.**\n",
        "> What may also surprise you is that when Python displays an array, it shows the element with index [0, 0] in the upper left corner rather than the lower left. This is consistent with the way mathematicians draw matrices, but different from the Cartesian coordinates. The indices are (row, column) instead of (column, row) for the same reason, which can be confusing when plotting data.\n",
        "\n",
        "\n",
        "### __Slicing__\n",
        "An index like `[30, 20]` selects a single element of an array, but we can select whole sections as well. \n",
        "\n",
        "For example, we can select the first ten days (columns) of values for the first four (rows) patients like this:"
      ]
    },
    {
      "cell_type": "code",
      "execution_count": 7,
      "metadata": {
        "id": "hlopSIhXd6nh",
        "outputId": "106b3c86-3fe2-47f1-a9b7-1f577e3dbfd8",
        "colab": {
          "base_uri": "https://localhost:8080/"
        }
      },
      "outputs": [
        {
          "output_type": "stream",
          "name": "stdout",
          "text": [
            "[[0. 0. 1. 3. 1. 2. 4. 7. 8. 3.]\n",
            " [0. 1. 2. 1. 2. 1. 3. 2. 2. 6.]\n",
            " [0. 1. 1. 3. 3. 2. 6. 2. 5. 9.]\n",
            " [0. 0. 2. 0. 4. 2. 2. 1. 6. 7.]]\n"
          ]
        }
      ],
      "source": [
        "print(data[0:4, 0:10])"
      ]
    },
    {
      "cell_type": "markdown",
      "metadata": {
        "id": "tWEY_fRRd6nh"
      },
      "source": [
        "The slice `0:4` means, \"Start at index 0 and go up to, but not including, index 4.\" Again, the up-to-but-not-including takes a bit of getting used to, but the rule is that the difference between the upper and lower bounds is the number of values in the slice.\n",
        "\n",
        "We don't have to start slices at 0:"
      ]
    },
    {
      "cell_type": "code",
      "execution_count": 8,
      "metadata": {
        "id": "aADM1HQbd6ni",
        "outputId": "420558cd-1356-4b21-8cb6-538dbcc3c8d9",
        "colab": {
          "base_uri": "https://localhost:8080/"
        }
      },
      "outputs": [
        {
          "output_type": "stream",
          "name": "stdout",
          "text": [
            "[[0. 0. 1. 2. 2. 4. 2. 1. 6. 4.]\n",
            " [0. 0. 2. 2. 4. 2. 2. 5. 5. 8.]\n",
            " [0. 0. 1. 2. 3. 1. 2. 3. 5. 3.]\n",
            " [0. 0. 0. 3. 1. 5. 6. 5. 5. 8.]\n",
            " [0. 1. 1. 2. 1. 3. 5. 3. 5. 8.]]\n"
          ]
        }
      ],
      "source": [
        "print(data[5:10, 0:10])"
      ]
    },
    {
      "cell_type": "markdown",
      "metadata": {
        "id": "ZN33v-VAd6ni"
      },
      "source": [
        "We also don't have to include the upper and lower bound on the slice. If we don't include the lower bound, Python uses 0 by default; if we don't include the upper, the slice runs to the end of the axis, and if we don't include either (i.e. if we just use ':' on its own), the slice includes everything:"
      ]
    },
    {
      "cell_type": "code",
      "execution_count": 9,
      "metadata": {
        "id": "ubZqULQjd6ni",
        "outputId": "6f793d1b-59d3-4aa3-eb83-1e21a1038a22",
        "colab": {
          "base_uri": "https://localhost:8080/"
        }
      },
      "outputs": [
        {
          "output_type": "stream",
          "name": "stdout",
          "text": [
            "small is:\n",
            "[[2. 3. 0. 0.]\n",
            " [1. 1. 0. 1.]\n",
            " [2. 2. 1. 1.]]\n"
          ]
        }
      ],
      "source": [
        "small = data[:3, 36:].copy()\n",
        "print('small is:')\n",
        "print(small)"
      ]
    },
    {
      "cell_type": "code",
      "execution_count": 10,
      "metadata": {
        "id": "DntpDd5Id6nj",
        "outputId": "01091685-cf10-4610-9d18-e24d5667600b",
        "colab": {
          "base_uri": "https://localhost:8080/"
        }
      },
      "outputs": [
        {
          "output_type": "stream",
          "name": "stdout",
          "text": [
            "[1. 2. 3. 4. 3. 2. 4. 3. 1. 1. 4. 3. 4. 1. 1. 1. 2. 2. 2. 1. 1. 2. 4. 1.\n",
            " 2. 3. 4. 1. 3. 4. 3. 3. 2. 3. 4. 1. 2. 3. 2. 1. 2. 3. 4. 1. 3. 4. 4. 1.\n",
            " 2. 3. 1. 3. 4. 1. 1. 2. 2. 4. 4. 3.]\n",
            "(60,)\n"
          ]
        }
      ],
      "source": [
        "# the 5th column:\n",
        "print(data[:, 4])\n",
        "print(data[:, 4].shape)"
      ]
    },
    {
      "cell_type": "code",
      "execution_count": 11,
      "metadata": {
        "id": "IwUqvDiSd6nj",
        "outputId": "a180cfbf-07c6-4beb-fcbc-d9e2bc0ae11d",
        "colab": {
          "base_uri": "https://localhost:8080/"
        }
      },
      "outputs": [
        {
          "output_type": "stream",
          "name": "stdout",
          "text": [
            "[ 0.  0.  2.  2.  4.  2.  2.  5.  5.  8.  6.  5. 11.  9.  4. 13.  5. 12.\n",
            " 10.  6.  9. 17. 15.  8.  9.  3. 13.  7.  8.  2.  8.  8.  4.  2.  3.  5.\n",
            "  4.  1.  1.  1.]\n",
            "(40,)\n"
          ]
        }
      ],
      "source": [
        "# the 7th row:\n",
        "print(data[6, :])\n",
        "print(data[6, :].shape)"
      ]
    },
    {
      "cell_type": "code",
      "source": [
        "print(data[6])\n",
        "print(data[6].shape)"
      ],
      "metadata": {
        "id": "7imRmAcmhx4r",
        "outputId": "f01a2b1a-1b61-4810-f0cc-35de9f7639e4",
        "colab": {
          "base_uri": "https://localhost:8080/"
        }
      },
      "execution_count": 13,
      "outputs": [
        {
          "output_type": "stream",
          "name": "stdout",
          "text": [
            "[ 0.  0.  2.  2.  4.  2.  2.  5.  5.  8.  6.  5. 11.  9.  4. 13.  5. 12.\n",
            " 10.  6.  9. 17. 15.  8.  9.  3. 13.  7.  8.  2.  8.  8.  4.  2.  3.  5.\n",
            "  4.  1.  1.  1.]\n",
            "(40,)\n"
          ]
        }
      ]
    },
    {
      "cell_type": "markdown",
      "metadata": {
        "id": "Dt2zc9AKd6nj"
      },
      "source": [
        "## Exercise 1\n",
        "\n",
        "1. Print the last value of the array, that is, the value at the last row and last column.\n",
        "1. Print the entire last row.\n",
        "1. Print the entire last column.\n",
        "\n",
        "**Tips**\n",
        "- Get autocompletion by pressing _Tab_\n",
        "- Get documentation by pressing _Shift+Tab_"
      ]
    },
    {
      "cell_type": "code",
      "source": [
        "print(data[-1, -1])\n",
        "print(data[-1])\n",
        "print(data[:, -1])\n",
        "print(data)"
      ],
      "metadata": {
        "id": "-43xgIa1iLwm",
        "outputId": "efbebf98-eb6f-42d1-dc01-c1fa51677659",
        "colab": {
          "base_uri": "https://localhost:8080/"
        }
      },
      "execution_count": 19,
      "outputs": [
        {
          "output_type": "stream",
          "name": "stdout",
          "text": [
            "0.0\n",
            "[ 0.  0.  1.  0.  3.  2.  5.  4.  8.  2.  9.  3.  3. 10. 12.  9. 14. 11.\n",
            " 13.  8.  6. 18. 11.  9. 13. 11.  8.  5.  5.  2.  8.  5.  3.  5.  4.  1.\n",
            "  3.  1.  1.  0.]\n",
            "[0. 1. 1. 1. 1. 1. 1. 1. 0. 0. 1. 1. 1. 0. 0. 0. 1. 0. 0. 1. 0. 0. 0. 0.\n",
            " 1. 0. 1. 1. 0. 1. 1. 0. 1. 1. 1. 0. 1. 0. 1. 1. 1. 0. 0. 1. 1. 0. 0. 1.\n",
            " 0. 1. 0. 0. 1. 1. 1. 1. 1. 1. 0. 0.]\n",
            "[[0. 0. 1. ... 3. 0. 0.]\n",
            " [0. 1. 2. ... 1. 0. 1.]\n",
            " [0. 1. 1. ... 2. 1. 1.]\n",
            " ...\n",
            " [0. 1. 1. ... 1. 1. 1.]\n",
            " [0. 0. 0. ... 0. 2. 0.]\n",
            " [0. 0. 1. ... 1. 1. 0.]]\n"
          ]
        }
      ]
    },
    {
      "cell_type": "markdown",
      "metadata": {
        "id": "PRmoUBn9d6nj"
      },
      "source": [
        "## __Creating arrays__\n",
        "\n",
        "There are [5 general mechanisms for creating arrays](https://docs.scipy.org/doc/numpy-dev/user/basics.creation.html):\n",
        "\n",
        "1. Reading arrays from disk, either from standard or custom formats\n",
        "1. Conversion from other Python structures (e.g., lists, tuples)\n",
        "1. Intrinsic numpy array creation objects (e.g., `arange`, `ones`, `zeros`, etc.)\n",
        "1. Creating arrays from raw bytes through the use of strings or buffers\n",
        "1. Use of special library functions (e.g., `numpy.random`)\n",
        "\n",
        "\n",
        "Let's start by pecifying a list or list of lists to the `np.array` function:"
      ]
    },
    {
      "cell_type": "code",
      "execution_count": 21,
      "metadata": {
        "id": "af3TtEXwd6nk",
        "outputId": "e1f3ff0f-09ac-42b0-c639-1d56fcfa026f",
        "colab": {
          "base_uri": "https://localhost:8080/"
        }
      },
      "outputs": [
        {
          "output_type": "stream",
          "name": "stdout",
          "text": [
            "[0 1 2 3]\n",
            "<class 'numpy.ndarray'> int64\n",
            "<class 'list'>\n"
          ]
        }
      ],
      "source": [
        "a = np.array([0, 1, 2, 3])\n",
        "print(a)\n",
        "print(type(a), a.dtype)\n",
        "print(type([1,2,3]))"
      ]
    },
    {
      "cell_type": "markdown",
      "metadata": {
        "id": "rH4n790Ud6nk"
      },
      "source": [
        "The `dtype` attribute gives the data-type. \n",
        "\n",
        "We can force a specific data-type:"
      ]
    },
    {
      "cell_type": "code",
      "execution_count": 22,
      "metadata": {
        "id": "47BVmq1Pd6nk",
        "outputId": "ff88dc7e-4a78-4209-c6d5-ec6defb1b33a",
        "colab": {
          "base_uri": "https://localhost:8080/"
        }
      },
      "outputs": [
        {
          "output_type": "stream",
          "name": "stdout",
          "text": [
            "[0 1 2 3]\n",
            "<class 'numpy.ndarray'> uint64\n"
          ]
        }
      ],
      "source": [
        "a = np.array([0, 1, 2, 3], dtype=np.uint64)\n",
        "print(a)\n",
        "print(type(a), a.dtype)"
      ]
    },
    {
      "cell_type": "code",
      "execution_count": 23,
      "metadata": {
        "id": "8YZuXUXOd6nk",
        "outputId": "9d5d50d8-aad3-477b-bf4b-22c95882818c",
        "colab": {
          "base_uri": "https://localhost:8080/"
        }
      },
      "outputs": [
        {
          "output_type": "stream",
          "name": "stdout",
          "text": [
            "[0. 1. 2. 3.]\n",
            "<class 'numpy.ndarray'> float16\n"
          ]
        }
      ],
      "source": [
        "a = np.float16([0, 1, 2, 3])\n",
        "print(a)\n",
        "print(type(a), a.dtype)"
      ]
    },
    {
      "cell_type": "markdown",
      "metadata": {
        "id": "Enif395wd6nk"
      },
      "source": [
        "__Remember that the arrays must be homogeneous:__"
      ]
    },
    {
      "cell_type": "code",
      "execution_count": 24,
      "metadata": {
        "id": "laNJGMpfd6nk",
        "outputId": "66209d3c-7241-4e0a-e825-29074738632d",
        "colab": {
          "base_uri": "https://localhost:8080/"
        }
      },
      "outputs": [
        {
          "output_type": "execute_result",
          "data": {
            "text/plain": [
              "array(['1', 'a'], dtype='<U21')"
            ]
          },
          "metadata": {},
          "execution_count": 24
        }
      ],
      "source": [
        "np.array([1,'a'])"
      ]
    },
    {
      "cell_type": "markdown",
      "metadata": {
        "id": "HCgE8NdQd6nl"
      },
      "source": [
        "NumPy has many [data-types](https://docs.scipy.org/doc/numpy-dev/user/basics.types.html), we'll focus on the default `int` and `float` today.\n",
        "\n",
        "We can create a 2D array from nested lists - make sure that all nested lists have the same length."
      ]
    },
    {
      "cell_type": "code",
      "execution_count": 25,
      "metadata": {
        "id": "FxcxAGgMd6nl",
        "outputId": "283d54fb-9fc3-495b-9a33-80cd324994bf",
        "colab": {
          "base_uri": "https://localhost:8080/"
        }
      },
      "outputs": [
        {
          "output_type": "stream",
          "name": "stdout",
          "text": [
            "[[0 1 2]\n",
            " [3 4 5]]\n",
            "(2, 3)\n"
          ]
        }
      ],
      "source": [
        "b = np.array(\n",
        "    [\n",
        "        [0, 1, 2], \n",
        "        [3, 4, 5]\n",
        "    ]\n",
        ")\n",
        "\n",
        "# same as writing: b = np.array([[0, 1, 2], [3, 4, 5]])\n",
        "\n",
        "print(b)\n",
        "print(b.shape)"
      ]
    },
    {
      "cell_type": "code",
      "execution_count": 26,
      "metadata": {
        "id": "P8uYuyIcd6nl",
        "outputId": "8a82d82f-0a40-4ee8-ee87-1b08a447332d",
        "colab": {
          "base_uri": "https://localhost:8080/"
        }
      },
      "outputs": [
        {
          "output_type": "stream",
          "name": "stdout",
          "text": [
            "[[[1]\n",
            "  [2]]\n",
            "\n",
            " [[3]\n",
            "  [4]]]\n",
            "(2, 2, 1)\n"
          ]
        }
      ],
      "source": [
        "c = np.array(\n",
        "    [\n",
        "        [\n",
        "            [1], \n",
        "            [2]\n",
        "        ], \n",
        "        [\n",
        "            [3], \n",
        "            [4]\n",
        "        ]\n",
        "    ]\n",
        ")\n",
        "print(c)\n",
        "print(c.shape)"
      ]
    },
    {
      "cell_type": "markdown",
      "metadata": {
        "id": "hUoDNMFzd6nl"
      },
      "source": [
        "Arrays are N-dimensional, so you can specify how many dimensions that you would like:"
      ]
    },
    {
      "cell_type": "code",
      "execution_count": 27,
      "metadata": {
        "id": "SRxmGD63d6nm",
        "outputId": "67b58495-9a2a-4e31-d9e5-420b5a195e9d",
        "colab": {
          "base_uri": "https://localhost:8080/"
        }
      },
      "outputs": [
        {
          "output_type": "stream",
          "name": "stdout",
          "text": [
            "[[[1 2]\n",
            "  [3 4]]\n",
            "\n",
            " [[5 6]\n",
            "  [7 8]]]\n",
            "(2, 2, 2)\n"
          ]
        }
      ],
      "source": [
        "d = np.array(\n",
        "    [\n",
        "        [\n",
        "            [1, 2],\n",
        "            [3, 4],\n",
        "        ],\n",
        "        [\n",
        "            [5, 6],\n",
        "            [7, 8],\n",
        "        ],        \n",
        "    ]\n",
        ")\n",
        "print(d)\n",
        "print(d.shape)"
      ]
    },
    {
      "cell_type": "markdown",
      "metadata": {
        "id": "q19bosqhd6nm"
      },
      "source": [
        "Check the number of dimensions and the shape:"
      ]
    },
    {
      "cell_type": "code",
      "execution_count": 28,
      "metadata": {
        "id": "71D_f52Jd6nm",
        "outputId": "42b4152b-1976-468e-b791-8d897faa6108",
        "colab": {
          "base_uri": "https://localhost:8080/"
        }
      },
      "outputs": [
        {
          "output_type": "stream",
          "name": "stdout",
          "text": [
            "3\n",
            "(2, 2, 2)\n"
          ]
        }
      ],
      "source": [
        "print(d.ndim)\n",
        "print(d.shape)"
      ]
    },
    {
      "cell_type": "markdown",
      "metadata": {
        "id": "cyzUHC41d6nm"
      },
      "source": [
        "__Sequence of numbers:__\n",
        "\n",
        "Use `np.arange`, whish is similar to `range`, but also accepts `float`s:"
      ]
    },
    {
      "cell_type": "code",
      "execution_count": 29,
      "metadata": {
        "id": "2q3tDyAmd6nm",
        "outputId": "c66d5fcc-09cc-40d8-b0c2-687d83f67afb",
        "colab": {
          "base_uri": "https://localhost:8080/"
        }
      },
      "outputs": [
        {
          "output_type": "stream",
          "name": "stdout",
          "text": [
            "[0 1 2 3 4 5 6 7 8 9]\n"
          ]
        }
      ],
      "source": [
        "a = np.arange(10)  # similar to range(10)\n",
        "print(a)"
      ]
    },
    {
      "cell_type": "code",
      "execution_count": 30,
      "metadata": {
        "id": "gvcu93Qud6nm",
        "outputId": "46564722-7a16-433c-a07f-2b34680e4397",
        "colab": {
          "base_uri": "https://localhost:8080/"
        }
      },
      "outputs": [
        {
          "output_type": "stream",
          "name": "stdout",
          "text": [
            "[-1.5 -1.3 -1.1 -0.9 -0.7 -0.5 -0.3 -0.1  0.1  0.3  0.5  0.7  0.9  1.1\n",
            "  1.3  1.5  1.7  1.9  2.1  2.3  2.5  2.7  2.9  3.1  3.3  3.5  3.7  3.9\n",
            "  4.1  4.3  4.5  4.7  4.9  5.1  5.3  5.5  5.7  5.9  6.1  6.3  6.5  6.7\n",
            "  6.9  7.1  7.3  7.5  7.7  7.9  8.1  8.3  8.5  8.7  8.9  9.1  9.3]\n"
          ]
        }
      ],
      "source": [
        "b = np.arange(-1.5, 9.5, 0.2) # start, end (exclusive), step\n",
        "print(b)"
      ]
    },
    {
      "cell_type": "markdown",
      "metadata": {
        "id": "9dUy8KcJd6nn"
      },
      "source": [
        "`np.linspace` is similar, but it accepts the required number of points rather than the required step."
      ]
    },
    {
      "cell_type": "code",
      "execution_count": 31,
      "metadata": {
        "id": "O8dQl5ZTd6nn",
        "outputId": "5b9a8d34-06a0-4f25-f5f0-f04cfb08db53",
        "colab": {
          "base_uri": "https://localhost:8080/"
        }
      },
      "outputs": [
        {
          "output_type": "stream",
          "name": "stdout",
          "text": [
            "[0.  0.2 0.4 0.6 0.8 1. ]\n"
          ]
        }
      ],
      "source": [
        "c = np.linspace(0, 1, 6)   # start (inclusive), end (inclusive), num-points\n",
        "print(c)"
      ]
    },
    {
      "cell_type": "markdown",
      "metadata": {
        "id": "xQ_9Zl7Vd6nn"
      },
      "source": [
        "__Initializing an array with zeros / ones:__"
      ]
    },
    {
      "cell_type": "code",
      "execution_count": 32,
      "metadata": {
        "id": "aSrw7FGRd6nn",
        "outputId": "0038d93d-9f63-481c-c035-5e788a6fe8c2",
        "colab": {
          "base_uri": "https://localhost:8080/"
        }
      },
      "outputs": [
        {
          "output_type": "stream",
          "name": "stdout",
          "text": [
            "[0. 0. 0. 0. 0. 0. 0.]\n",
            "\n",
            "[[1. 1. 1.]\n",
            " [1. 1. 1.]]\n",
            "\n",
            "[[0. 0. 0. 0. 0. 0. 0.]]\n"
          ]
        }
      ],
      "source": [
        "print(np.zeros(7))\n",
        "print()\n",
        "print(np.ones((2,3)))\n",
        "print()\n",
        "print(np.zeros((1,7)))"
      ]
    },
    {
      "cell_type": "markdown",
      "metadata": {
        "id": "DQfAqukKd6nn"
      },
      "source": [
        "## __Operations__\n",
        "\n",
        "We can also perform common arithmetic operations on arrays: add, subtract, multiply, divide, etc.\n",
        "\n",
        "When you perform these operations on arrays, the operation is done on each individual element of the array, i.e. elementwise.\n",
        "\n",
        "A new array is created and filled with the result."
      ]
    },
    {
      "cell_type": "markdown",
      "metadata": {
        "id": "7knSk_JFd6nn"
      },
      "source": [
        "bac to `data` that we loaded above with `no.loadtxt`:"
      ]
    },
    {
      "cell_type": "code",
      "execution_count": 38,
      "metadata": {
        "id": "Z4VVRZPWd6no"
      },
      "outputs": [],
      "source": [
        "doubledata = data * 2"
      ]
    },
    {
      "cell_type": "markdown",
      "metadata": {
        "id": "TIPleLFRd6no"
      },
      "source": [
        "will create a new array `doubledata` whose elements have the value of two times the value of the corresponding elements in `data`."
      ]
    },
    {
      "cell_type": "code",
      "execution_count": 39,
      "metadata": {
        "id": "laEqi4PDd6no",
        "outputId": "a5c7dbe2-702c-430b-bdfd-9f7f48482ddf",
        "colab": {
          "base_uri": "https://localhost:8080/"
        }
      },
      "outputs": [
        {
          "output_type": "stream",
          "name": "stdout",
          "text": [
            "original:\n",
            "[[2. 3. 0. 0.]\n",
            " [1. 1. 0. 1.]\n",
            " [2. 2. 1. 1.]]\n",
            "doubledata:\n",
            "[[4. 6. 0. 0.]\n",
            " [2. 2. 0. 2.]\n",
            " [4. 4. 2. 2.]]\n"
          ]
        }
      ],
      "source": [
        "print('original:')\n",
        "print(data[:3, 36:])\n",
        "print('doubledata:')\n",
        "print(doubledata[:3, 36:])"
      ]
    },
    {
      "cell_type": "markdown",
      "metadata": {
        "id": "3Uhop1Xid6no"
      },
      "source": [
        "Some more examples:"
      ]
    },
    {
      "cell_type": "code",
      "execution_count": 40,
      "metadata": {
        "id": "d3fMTbyhd6no",
        "outputId": "83ccc37f-fd28-4465-bc6c-794b9a86611a",
        "colab": {
          "base_uri": "https://localhost:8080/"
        }
      },
      "outputs": [
        {
          "output_type": "stream",
          "name": "stdout",
          "text": [
            "[2 3 4]\n",
            "[2 4 6]\n",
            "[-4 -3 -2]\n",
            "[0.33333333 0.66666667 1.        ]\n",
            "[1 0 1]\n"
          ]
        }
      ],
      "source": [
        "x = np.array([1,2,3])\n",
        "print(x+1)\n",
        "print(x*2)\n",
        "print(x-5)\n",
        "print(x/3)\n",
        "print(x%2)"
      ]
    },
    {
      "cell_type": "code",
      "execution_count": 43,
      "metadata": {
        "id": "vahsCdzDd6no",
        "outputId": "0b1ccaf9-3d56-4e41-8f21-3c042408f7a3",
        "colab": {
          "base_uri": "https://localhost:8080/"
        }
      },
      "outputs": [
        {
          "output_type": "stream",
          "name": "stdout",
          "text": [
            "[5 7 9]\n",
            "[ 4 10 18]\n"
          ]
        }
      ],
      "source": [
        "x = np.array([1,2,3])\n",
        "y = np.array([4,5,6])\n",
        "print(x+y)\n",
        "print(x*y)"
      ]
    },
    {
      "cell_type": "markdown",
      "metadata": {
        "id": "kjggWNCrd6np"
      },
      "source": [
        "Note that the shapes of the arrays must be suitable:"
      ]
    },
    {
      "cell_type": "code",
      "execution_count": 37,
      "metadata": {
        "id": "fHGf0s5Cd6np",
        "outputId": "380fb3bd-e492-4745-b5db-2298e342bae5",
        "colab": {
          "base_uri": "https://localhost:8080/",
          "height": 200
        }
      },
      "outputs": [
        {
          "output_type": "error",
          "ename": "ValueError",
          "evalue": "ignored",
          "traceback": [
            "\u001b[0;31m---------------------------------------------------------------------------\u001b[0m",
            "\u001b[0;31mValueError\u001b[0m                                Traceback (most recent call last)",
            "\u001b[0;32m<ipython-input-37-fcb2c5a03905>\u001b[0m in \u001b[0;36m<module>\u001b[0;34m\u001b[0m\n\u001b[1;32m      1\u001b[0m \u001b[0mx\u001b[0m \u001b[0;34m=\u001b[0m \u001b[0mnp\u001b[0m\u001b[0;34m.\u001b[0m\u001b[0marray\u001b[0m\u001b[0;34m(\u001b[0m\u001b[0;34m[\u001b[0m\u001b[0;36m1\u001b[0m\u001b[0;34m,\u001b[0m\u001b[0;36m2\u001b[0m\u001b[0;34m,\u001b[0m\u001b[0;36m3\u001b[0m\u001b[0;34m]\u001b[0m\u001b[0;34m)\u001b[0m\u001b[0;34m\u001b[0m\u001b[0;34m\u001b[0m\u001b[0m\n\u001b[1;32m      2\u001b[0m \u001b[0mz\u001b[0m \u001b[0;34m=\u001b[0m \u001b[0mnp\u001b[0m\u001b[0;34m.\u001b[0m\u001b[0marray\u001b[0m\u001b[0;34m(\u001b[0m\u001b[0;34m[\u001b[0m\u001b[0;36m7\u001b[0m\u001b[0;34m,\u001b[0m\u001b[0;36m8\u001b[0m\u001b[0;34m,\u001b[0m\u001b[0;36m9\u001b[0m\u001b[0;34m,\u001b[0m\u001b[0;36m10\u001b[0m\u001b[0;34m]\u001b[0m\u001b[0;34m)\u001b[0m\u001b[0;34m\u001b[0m\u001b[0;34m\u001b[0m\u001b[0m\n\u001b[0;32m----> 3\u001b[0;31m \u001b[0mprint\u001b[0m\u001b[0;34m(\u001b[0m\u001b[0mx\u001b[0m\u001b[0;34m+\u001b[0m\u001b[0mz\u001b[0m\u001b[0;34m)\u001b[0m\u001b[0;34m\u001b[0m\u001b[0;34m\u001b[0m\u001b[0m\n\u001b[0m",
            "\u001b[0;31mValueError\u001b[0m: operands could not be broadcast together with shapes (3,) (4,) "
          ]
        }
      ],
      "source": [
        "x = np.array([1,2,3])\n",
        "z = np.array([7,8,9,10])\n",
        "print(x+z)"
      ]
    },
    {
      "cell_type": "markdown",
      "metadata": {
        "id": "K9nC0_Lxd6np"
      },
      "source": [
        "In order to apply matrix multiplication (as in linear algebra, and not elementwise), we can use the `dot` method:"
      ]
    },
    {
      "cell_type": "code",
      "execution_count": 46,
      "metadata": {
        "id": "8poa1Z-yd6np",
        "outputId": "e734f748-3192-4902-f499-57f74743b392",
        "colab": {
          "base_uri": "https://localhost:8080/"
        }
      },
      "outputs": [
        {
          "output_type": "stream",
          "name": "stdout",
          "text": [
            "[[1 2 3]\n",
            " [4 5 6]\n",
            " [7 8 9]]\n",
            "\n",
            "[[1]\n",
            " [2]\n",
            " [3]]\n",
            "\n",
            "[[4 5 6]]\n",
            "\n"
          ]
        }
      ],
      "source": [
        "# note the reshape command that creates a new array in the given dimensions:\n",
        "a = np.arange(1,10).reshape((3,3))\n",
        "b = np.arange(1,4).reshape(3,1)\n",
        "c = np.arange(4,7).reshape(1,3)\n",
        "for elem in (a,b,c):\n",
        "    print(elem, end='\\n\\n')"
      ]
    },
    {
      "cell_type": "code",
      "execution_count": 47,
      "metadata": {
        "id": "WpYl5uyed6np",
        "outputId": "9b0142b0-f941-4dd0-834a-b8977cbb105e",
        "colab": {
          "base_uri": "https://localhost:8080/"
        }
      },
      "outputs": [
        {
          "output_type": "stream",
          "name": "stdout",
          "text": [
            "[[14]\n",
            " [32]\n",
            " [50]]\n",
            "\n",
            "[[32]]\n"
          ]
        }
      ],
      "source": [
        "print(a.dot(b), end='\\n\\n')\n",
        "print(c.dot(b))"
      ]
    },
    {
      "cell_type": "markdown",
      "metadata": {
        "id": "4yYYqws1d6nq"
      },
      "source": [
        "### __The speed of numpy__\n",
        "\n",
        "Thess operands on arrays are much faster than doing it with e.g. lists \n",
        "\n",
        "(`%timeit` is a magic command for measuring running time of single lines; use `%%timeit` to measure time of a whole cell).\n",
        "\n",
        "Say we want to produce an array of the squares of numbers from 0 to 99.\n",
        "There are a bunch of ways to do it using list comprehensions, `np.arange`, and using different approached for squaring the numbers. \n",
        "\n",
        "Let's compare the different approaches in terms of running time:"
      ]
    },
    {
      "cell_type": "code",
      "execution_count": 49,
      "metadata": {
        "id": "W6asqmCsd6nq",
        "outputId": "1ad31f9d-8e67-4141-c38b-1d9b35870f30",
        "colab": {
          "base_uri": "https://localhost:8080/"
        }
      },
      "outputs": [
        {
          "output_type": "stream",
          "name": "stdout",
          "text": [
            "27 ms ± 655 µs per loop (mean ± std. dev. of 7 runs, 10 loops each)\n",
            "50.2 ms ± 12.8 ms per loop (mean ± std. dev. of 7 runs, 10 loops each)\n",
            "25.7 ms ± 840 µs per loop (mean ± std. dev. of 7 runs, 10 loops each)\n",
            "7.66 ms ± 222 µs per loop (mean ± std. dev. of 7 runs, 100 loops each)\n",
            "416 µs ± 7.81 µs per loop (mean ± std. dev. of 7 runs, 1000 loops each)\n",
            "290 µs ± 4.56 µs per loop (mean ± std. dev. of 7 runs, 1000 loops each)\n"
          ]
        }
      ],
      "source": [
        "n = 100000\n",
        "\n",
        "%timeit [x**2 for x in range(n)]\n",
        "\n",
        "%timeit np.array([x**2 for x in range(n)])\n",
        "\n",
        "%timeit np.array([x**2 for x in np.arange(n)])\n",
        "\n",
        "%timeit np.power(range(n), 2)\n",
        "\n",
        "%timeit np.power(np.arange(n), 2)\n",
        "\n",
        "%timeit np.arange(n)**2"
      ]
    },
    {
      "cell_type": "markdown",
      "metadata": {
        "id": "pae6m5VKd6nq"
      },
      "source": [
        "Just another comparison:"
      ]
    },
    {
      "cell_type": "code",
      "execution_count": 50,
      "metadata": {
        "id": "OT-yqbYyd6nq",
        "outputId": "d188480c-009a-4205-eaa1-dbe7c87008fd",
        "colab": {
          "base_uri": "https://localhost:8080/"
        }
      },
      "outputs": [
        {
          "output_type": "stream",
          "name": "stdout",
          "text": [
            "30.6 ms ± 798 µs per loop (mean ± std. dev. of 7 runs, 10 loops each)\n",
            "140 µs ± 8.94 µs per loop (mean ± std. dev. of 7 runs, 10000 loops each)\n"
          ]
        }
      ],
      "source": [
        "def add_lists(a,b):\n",
        "    n = len(a)\n",
        "    res = []\n",
        "    for i in range(n):\n",
        "        res.append(a[i] + b[i])\n",
        "    return res\n",
        "    \n",
        "n = 10**5\n",
        "a = range(n)\n",
        "b = range(0, 2*n, 2)\n",
        "%timeit add_lists(a,b) # same operation as list comprehension: [a[i] + b[i] for i in range(n)]\n",
        "\n",
        "a = np.arange(n)\n",
        "b = np.arange(0, 2*n, 2)\n",
        "%timeit a + b"
      ]
    },
    {
      "cell_type": "markdown",
      "metadata": {
        "id": "58qpIne8d6nq"
      },
      "source": [
        "## Exercise 2\n",
        "\n",
        "Calculate the square root of the data using `numpy`. \n",
        "Print the result for the first 5 columns of the first 3 rows."
      ]
    },
    {
      "cell_type": "code",
      "execution_count": 55,
      "metadata": {
        "id": "TSenQogfd6nq",
        "outputId": "6bd1a443-227a-4da0-95a4-197ee7e95a8a",
        "colab": {
          "base_uri": "https://localhost:8080/"
        }
      },
      "outputs": [
        {
          "output_type": "stream",
          "name": "stdout",
          "text": [
            "[[0.         0.         1.         1.73205081 1.        ]\n",
            " [0.         1.         1.41421356 1.         1.41421356]\n",
            " [0.         1.         1.         1.73205081 1.73205081]]\n"
          ]
        }
      ],
      "source": [
        "data_sqrt=data**0.5\n",
        "print(data_sqrt[0:3,0:5])"
      ]
    },
    {
      "cell_type": "markdown",
      "metadata": {
        "id": "dNfaID5-d6nr"
      },
      "source": [
        "## __Descriptive statistics__\n",
        "\n",
        "Often, we want to do more than add, subtract, multiply, and divide values of data. \n",
        "We can also do descriptive statistics on arrays.\n",
        "If we want to find the average inflammation for all patients on all days, for example, we can just calculate the mean value of the array."
      ]
    },
    {
      "cell_type": "code",
      "execution_count": 56,
      "metadata": {
        "id": "JYtgewh0d6nr",
        "outputId": "5358d697-dfb2-4e14-af88-58e7f85f0779",
        "colab": {
          "base_uri": "https://localhost:8080/"
        }
      },
      "outputs": [
        {
          "output_type": "execute_result",
          "data": {
            "text/plain": [
              "6.14875"
            ]
          },
          "metadata": {},
          "execution_count": 56
        }
      ],
      "source": [
        "data.mean()"
      ]
    },
    {
      "cell_type": "markdown",
      "metadata": {
        "id": "IxyN-0x6d6nr"
      },
      "source": [
        "`mean` is a method of the array, i.e. a function that belongs to it in the same way that the member shape does. If variables are nouns, methods are verbs: they describe operations that can be perfomed on the object.\n",
        "This is why `data.shape` doesn't need to be called (it's a member, not a method) but `data.mean()` does (it's a method).\n",
        "\n",
        "It is also why we need empty parentheses for `data.mean()`: even when we're not passing in any arguments, parentheses are how we tell Python to call a function (what would happen if you just use `data.mean`?).\n",
        "\n",
        "NumPy arrays have lots of useful methods:"
      ]
    },
    {
      "cell_type": "code",
      "execution_count": 62,
      "metadata": {
        "id": "KEuXnEuNd6nr",
        "outputId": "486fe659-f9b5-4137-b49d-61b73ee3e0fa",
        "colab": {
          "base_uri": "https://localhost:8080/"
        }
      },
      "outputs": [
        {
          "output_type": "stream",
          "name": "stdout",
          "text": [
            "maximum inflammation: 20.0\n",
            "minimum inflammation: 0.0\n",
            "standard deviation: 4.613833197118566\n"
          ]
        }
      ],
      "source": [
        "print('maximum inflammation:', data.max())\n",
        "print('minimum inflammation:', data.min())\n",
        "print('standard deviation:', data.std())"
      ]
    },
    {
      "cell_type": "markdown",
      "metadata": {
        "id": "JojtBeiPd6nr"
      },
      "source": [
        "When analyzing data, though, we often want to look at marginal statistics, such as the maximum value per patient or the average value per day.\n",
        "One way to do this is to select the data we want to create a new temporary array, then ask it to do the calculation:"
      ]
    },
    {
      "cell_type": "code",
      "execution_count": 64,
      "metadata": {
        "id": "j7iGuEg7d6ns",
        "outputId": "080fb99a-2aaa-429b-be54-8ab7336736f6",
        "colab": {
          "base_uri": "https://localhost:8080/"
        }
      },
      "outputs": [
        {
          "output_type": "stream",
          "name": "stdout",
          "text": [
            "maximum inflammation for patient 0: 18.0\n"
          ]
        }
      ],
      "source": [
        "patient_0 = data[0, :] # 0 on the first axis, everything on the second\n",
        "print('maximum inflammation for patient 0:', data[0, :].max())"
      ]
    },
    {
      "cell_type": "markdown",
      "metadata": {
        "id": "Orhv4Em9d6ns"
      },
      "source": [
        "What if we need the maximum inflammation for all patients, or the average for each day? As the diagram below shows, we want to perform the operation across an axis:\n",
        "![axis example](https://github.com/swcarpentry/python-novice-inflammation/raw/gh-pages/fig/python-operations-across-axes.png)\n",
        "To support this, most array methods allow us to specify the axis we want to work on.\n",
        "If we ask for the average across axis 0, we get:"
      ]
    },
    {
      "cell_type": "code",
      "execution_count": 68,
      "metadata": {
        "id": "_FLh6C59d6ns",
        "outputId": "956b5d62-c1ee-4858-8d70-51b0769372ad",
        "colab": {
          "base_uri": "https://localhost:8080/"
        }
      },
      "outputs": [
        {
          "output_type": "stream",
          "name": "stdout",
          "text": [
            "[5.45  5.425 6.1   5.9   5.55  6.225 5.975 6.65  6.625 6.525 6.775 5.8\n",
            " 6.225 5.75  5.225 6.3   6.55  5.7   5.85  6.55  5.775 5.825 6.175 6.1\n",
            " 5.8   6.425 6.05  6.025 6.175 6.55  6.175 6.35  6.725 6.125 7.075 5.725\n",
            " 5.925 6.15  6.075 5.75  5.975 5.725 6.3   5.9   6.75  5.925 7.225 6.15\n",
            " 5.95  6.275 5.7   6.1   6.825 5.975 6.725 5.7   6.25  6.4   7.05  5.9  ]\n"
          ]
        }
      ],
      "source": [
        "print(data.mean(axis=1))"
      ]
    },
    {
      "cell_type": "markdown",
      "metadata": {
        "id": "T2ejn-QLd6ns"
      },
      "source": [
        "As a quick check, we can check the shape of the result:"
      ]
    },
    {
      "cell_type": "code",
      "execution_count": 60,
      "metadata": {
        "id": "eAu_ktkAd6ns",
        "outputId": "f5a13f90-4813-4a96-f847-c481559bd38f",
        "colab": {
          "base_uri": "https://localhost:8080/"
        }
      },
      "outputs": [
        {
          "output_type": "stream",
          "name": "stdout",
          "text": [
            "(40,)\n"
          ]
        }
      ],
      "source": [
        "print(data.mean(axis=0).shape)"
      ]
    },
    {
      "cell_type": "markdown",
      "metadata": {
        "id": "-L-AmFIQd6ns"
      },
      "source": [
        "The expression `(40,)` tells us we have an 1D array of length 40, so this is the average inflammation per day for all patients. If we average across axis 1, we get:"
      ]
    },
    {
      "cell_type": "code",
      "execution_count": 61,
      "metadata": {
        "id": "fs8SbSled6ns",
        "outputId": "c9a2bbf3-823a-4560-cb05-4fd3b34c9b8b",
        "colab": {
          "base_uri": "https://localhost:8080/"
        }
      },
      "outputs": [
        {
          "output_type": "stream",
          "name": "stdout",
          "text": [
            "[5.45  5.425 6.1   5.9   5.55  6.225 5.975 6.65  6.625 6.525 6.775 5.8\n",
            " 6.225 5.75  5.225 6.3   6.55  5.7   5.85  6.55  5.775 5.825 6.175 6.1\n",
            " 5.8   6.425 6.05  6.025 6.175 6.55  6.175 6.35  6.725 6.125 7.075 5.725\n",
            " 5.925 6.15  6.075 5.75  5.975 5.725 6.3   5.9   6.75  5.925 7.225 6.15\n",
            " 5.95  6.275 5.7   6.1   6.825 5.975 6.725 5.7   6.25  6.4   7.05  5.9  ]\n"
          ]
        }
      ],
      "source": [
        "print(data.mean(axis=1))"
      ]
    },
    {
      "cell_type": "markdown",
      "metadata": {
        "id": "ExnxC8lYd6nt"
      },
      "source": [
        "which is the average inflammation per patient across all days."
      ]
    },
    {
      "cell_type": "markdown",
      "metadata": {
        "id": "JkTOXllHd6nt"
      },
      "source": [
        "## Exercise 3\n",
        "\n",
        "On which day did each patient had the most inflammation?\n",
        "Use `data.argmax` to find out."
      ]
    },
    {
      "cell_type": "code",
      "execution_count": 69,
      "metadata": {
        "id": "RhEd5CEgd6nt",
        "outputId": "ad2bde7d-1780-4d25-fac6-631561db9341",
        "colab": {
          "base_uri": "https://localhost:8080/"
        }
      },
      "outputs": [
        {
          "output_type": "stream",
          "name": "stdout",
          "text": [
            "[19 20 20 20 19 18 21 20 18 20 19 22 17 19 17 18 21 21 17 21 21 22 18 19\n",
            " 20 19 22 23 20 18 19 20 15 25 19 23 18 18 20 18 20 20 21 19 21 18 20 15\n",
            " 24 18 19 20 21 19 18 17 23 19 22 21]\n"
          ]
        }
      ],
      "source": [
        "print(data.argmax(axis=1))\n"
      ]
    },
    {
      "cell_type": "markdown",
      "metadata": {
        "id": "7r4CiPkqd6nt",
        "toc-hr-collapsed": false
      },
      "source": [
        "# NumPy reference\n",
        "\n",
        "We now go through some extra NumPy features worth mentioning."
      ]
    },
    {
      "cell_type": "markdown",
      "metadata": {
        "id": "7ciJOuked6nt"
      },
      "source": [
        "### Exercise: creating arrays\n",
        "\n",
        "Create an array with the inverse ($1/x$) of the even numbers lower than or equal to 100."
      ]
    },
    {
      "cell_type": "code",
      "execution_count": null,
      "metadata": {
        "id": "Qe6ZPR8Bd6nt"
      },
      "outputs": [],
      "source": []
    },
    {
      "cell_type": "markdown",
      "metadata": {
        "id": "TqMtu-p6d6nt"
      },
      "source": [
        "## Creating arrays - continued\n",
        "You can can create an empty array of a certain shape (which is given as a `tuple`) or with the same shape as another array."
      ]
    },
    {
      "cell_type": "code",
      "execution_count": 70,
      "metadata": {
        "id": "-JG-J_nqd6nu",
        "outputId": "b3856437-1e28-49ef-caea-adc5e3cd9978",
        "colab": {
          "base_uri": "https://localhost:8080/"
        }
      },
      "outputs": [
        {
          "output_type": "stream",
          "name": "stdout",
          "text": [
            "[[2.26004440e-316 2.05833592e-312 2.05833592e-312 2.18565567e-312]\n",
            " [2.05833592e-312 2.05833592e-312 5.92878775e-322 0.00000000e+000]]\n"
          ]
        }
      ],
      "source": [
        "d = np.empty((2, 4))\n",
        "print(d)"
      ]
    },
    {
      "cell_type": "code",
      "execution_count": 71,
      "metadata": {
        "id": "_lrznQDed6nu",
        "outputId": "37dd064d-16ac-44e1-a741-e931b5f6957c",
        "colab": {
          "base_uri": "https://localhost:8080/"
        }
      },
      "outputs": [
        {
          "output_type": "stream",
          "name": "stdout",
          "text": [
            "[[4.9e-324 9.9e-324 1.5e-323 2.0e-323]\n",
            " [2.5e-323 3.0e-323 3.5e-323 4.0e-323]]\n"
          ]
        }
      ],
      "source": [
        "f = np.empty_like(d)\n",
        "print(f)"
      ]
    },
    {
      "cell_type": "markdown",
      "metadata": {
        "id": "TKzMkKlRd6nu"
      },
      "source": [
        "You can create an array full of 1s or 0s, or any single number:"
      ]
    },
    {
      "cell_type": "code",
      "execution_count": 72,
      "metadata": {
        "id": "tFX_wK-Id6nu",
        "outputId": "157d51f6-7cfc-4931-a0b8-c37af2a0aa42",
        "colab": {
          "base_uri": "https://localhost:8080/"
        }
      },
      "outputs": [
        {
          "output_type": "stream",
          "name": "stdout",
          "text": [
            "[[1. 1. 1.]\n",
            " [1. 1. 1.]\n",
            " [1. 1. 1.]]\n"
          ]
        }
      ],
      "source": [
        "a = np.ones((3, 3))\n",
        "print(a)"
      ]
    },
    {
      "cell_type": "code",
      "execution_count": 73,
      "metadata": {
        "id": "q_zY5teKd6nu",
        "outputId": "a9a68342-f7f0-42e3-c9fe-5f246b387291",
        "colab": {
          "base_uri": "https://localhost:8080/"
        }
      },
      "outputs": [
        {
          "output_type": "stream",
          "name": "stdout",
          "text": [
            "[[5.134 5.134 5.134]\n",
            " [5.134 5.134 5.134]\n",
            " [5.134 5.134 5.134]]\n"
          ]
        }
      ],
      "source": [
        "a = np.ones((3, 3)) * 5.134 \n",
        "print(a)"
      ]
    },
    {
      "cell_type": "code",
      "execution_count": 74,
      "metadata": {
        "id": "KtmltJCCd6nu",
        "outputId": "496d2b14-ca74-49c2-9c0c-dc5593c12dfa",
        "colab": {
          "base_uri": "https://localhost:8080/"
        }
      },
      "outputs": [
        {
          "output_type": "stream",
          "name": "stdout",
          "text": [
            "[[0. 0.]\n",
            " [0. 0.]]\n"
          ]
        }
      ],
      "source": [
        "b = np.zeros((2, 2))\n",
        "print(b)"
      ]
    },
    {
      "cell_type": "markdown",
      "metadata": {
        "id": "NhBT8vOdd6nu"
      },
      "source": [
        "Create the identity matrix:"
      ]
    },
    {
      "cell_type": "code",
      "execution_count": 75,
      "metadata": {
        "id": "pIQX5rHWd6nv",
        "outputId": "bcfc0384-4911-42e9-b0a3-c8577db26a91",
        "colab": {
          "base_uri": "https://localhost:8080/"
        }
      },
      "outputs": [
        {
          "output_type": "stream",
          "name": "stdout",
          "text": [
            "[[1. 0. 0.]\n",
            " [0. 1. 0.]\n",
            " [0. 0. 1.]]\n"
          ]
        }
      ],
      "source": [
        "c = np.eye(3)\n",
        "print(c)"
      ]
    },
    {
      "cell_type": "markdown",
      "metadata": {
        "id": "kxyMuiFGd6nv"
      },
      "source": [
        "Create matrices by specifying the digonals:"
      ]
    },
    {
      "cell_type": "code",
      "execution_count": 76,
      "metadata": {
        "id": "p_yc49Ecd6nv",
        "outputId": "bd97b0be-8ab1-4a1b-9f07-434de372325a",
        "colab": {
          "base_uri": "https://localhost:8080/"
        }
      },
      "outputs": [
        {
          "output_type": "stream",
          "name": "stdout",
          "text": [
            "[[1 0 0 0]\n",
            " [0 2 0 0]\n",
            " [0 0 3 0]\n",
            " [0 0 0 4]]\n"
          ]
        }
      ],
      "source": [
        "d = np.diag([1, 2, 3, 4])\n",
        "print(d)"
      ]
    },
    {
      "cell_type": "code",
      "execution_count": 77,
      "metadata": {
        "id": "66-hxRJud6nv",
        "scrolled": true,
        "outputId": "4ae86f67-5c1b-4b6c-b25d-63c9b84bdea6",
        "colab": {
          "base_uri": "https://localhost:8080/"
        }
      },
      "outputs": [
        {
          "output_type": "stream",
          "name": "stdout",
          "text": [
            "[[0 1 0 0]\n",
            " [4 0 2 0]\n",
            " [0 5 0 3]\n",
            " [0 0 6 0]]\n"
          ]
        }
      ],
      "source": [
        "d = np.diag([1, 2, 3], 1) + np.diag([4, 5, 6], -1)\n",
        "print(d)"
      ]
    },
    {
      "cell_type": "markdown",
      "metadata": {
        "id": "eRBbJyxAd6nv"
      },
      "source": [
        "Create matrices by reshaping another matrix or array:"
      ]
    },
    {
      "cell_type": "code",
      "execution_count": 78,
      "metadata": {
        "id": "lgrP6MAyd6nv",
        "outputId": "fec388c5-572e-41ee-b69a-873a8a67b4d8",
        "colab": {
          "base_uri": "https://localhost:8080/"
        }
      },
      "outputs": [
        {
          "output_type": "stream",
          "name": "stdout",
          "text": [
            "[[0 1 0 0 4 0 2 0]\n",
            " [0 5 0 3 0 0 6 0]]\n"
          ]
        }
      ],
      "source": [
        "f = d.reshape((2, 8))\n",
        "print(f)"
      ]
    },
    {
      "cell_type": "code",
      "execution_count": 78,
      "metadata": {
        "id": "yLf-3fNXd6ny"
      },
      "outputs": [],
      "source": []
    },
    {
      "cell_type": "markdown",
      "metadata": {
        "id": "BdrRVDzpd6ny"
      },
      "source": [
        "## Random arrays\n",
        "\n",
        "We'll set the random seed for reproducability (i.e. to get the same result every time), but in real-life application you should think if you want to set the seed."
      ]
    },
    {
      "cell_type": "code",
      "execution_count": 89,
      "metadata": {
        "id": "Od41ohLBd6nz"
      },
      "outputs": [],
      "source": [
        "np.random.seed(0) "
      ]
    },
    {
      "cell_type": "markdown",
      "metadata": {
        "id": "6r_ZSGZHd6nz"
      },
      "source": [
        "Start with drawing a single random number uniformly between 0 and 1:"
      ]
    },
    {
      "cell_type": "code",
      "execution_count": 93,
      "metadata": {
        "id": "mbBdMn6Od6nz",
        "outputId": "769d4383-9c23-481e-89a7-fda542b62ee7",
        "colab": {
          "base_uri": "https://localhost:8080/"
        }
      },
      "outputs": [
        {
          "output_type": "stream",
          "name": "stdout",
          "text": [
            "[0.43758721 0.891773   0.96366276 0.38344152]\n"
          ]
        }
      ],
      "source": [
        "print(np.random.random(4))"
      ]
    },
    {
      "cell_type": "markdown",
      "metadata": {
        "id": "VXKVeWCrd6nz"
      },
      "source": [
        "An array of four random numbers between 0 and 1:"
      ]
    },
    {
      "cell_type": "code",
      "execution_count": 81,
      "metadata": {
        "id": "Nkzcb2Ltd6nz",
        "outputId": "f907be84-2e84-4e4c-e5d3-595128320f2a",
        "colab": {
          "base_uri": "https://localhost:8080/"
        }
      },
      "outputs": [
        {
          "output_type": "stream",
          "name": "stdout",
          "text": [
            "[0.21876966 0.40108675 0.26202072 0.66656901]\n"
          ]
        }
      ],
      "source": [
        "a = np.random.random(size=4)\n",
        "print(a)"
      ]
    },
    {
      "cell_type": "markdown",
      "metadata": {
        "id": "7SxGSxjxd6nz"
      },
      "source": [
        "A 3x3 matrix or random numbers drawn from a normal distribution with mean 1 and standard deviation 0.5:"
      ]
    },
    {
      "cell_type": "code",
      "execution_count": 94,
      "metadata": {
        "id": "n5nVzWpld6n0",
        "outputId": "a8d93633-aaaa-4c67-e115-5d345c918a05",
        "colab": {
          "base_uri": "https://localhost:8080/"
        }
      },
      "outputs": [
        {
          "output_type": "stream",
          "name": "stdout",
          "text": [
            "[[1.07202179 1.72713675 1.38051886]\n",
            " [1.06083751 1.22193162 1.16683716]\n",
            " [1.74703954 0.89742087 1.15653385]]\n"
          ]
        }
      ],
      "source": [
        "b = np.random.normal(1, 0.5, size=(3, 3))\n",
        "print(b)"
      ]
    },
    {
      "cell_type": "markdown",
      "metadata": {
        "id": "29AYbOVTd6n0"
      },
      "source": [
        "Now draw a 3x2x4 array from a Poisson distribution with mean 5:"
      ]
    },
    {
      "cell_type": "code",
      "execution_count": 95,
      "metadata": {
        "id": "aouVnODyd6n0",
        "outputId": "3e40066f-4a37-43a0-d48e-b0638106d31c",
        "colab": {
          "base_uri": "https://localhost:8080/"
        }
      },
      "outputs": [
        {
          "output_type": "stream",
          "name": "stdout",
          "text": [
            "[[[ 5  2  8  4]\n",
            "  [ 5  4  3  3]]\n",
            "\n",
            " [[ 7  3  3  4]\n",
            "  [ 5  2  1  7]]\n",
            "\n",
            " [[ 7 10  5  8]\n",
            "  [ 8  6  4  4]]]\n"
          ]
        }
      ],
      "source": [
        "c = np.random.poisson(5, size=(3, 2, 4))\n",
        "print(c)"
      ]
    },
    {
      "cell_type": "markdown",
      "metadata": {
        "id": "MzRDN5E9d6n0"
      },
      "source": [
        "[shuffle](https://docs.scipy.org/doc/numpy-1.14.0/reference/generated/numpy.random.shuffle.html) an array:"
      ]
    },
    {
      "cell_type": "code",
      "execution_count": null,
      "metadata": {
        "id": "9FYO6vbld6n0"
      },
      "outputs": [],
      "source": [
        "vec = np.arange(10)\n",
        "np.random.shuffle(vec)\n",
        "print(vec)"
      ]
    },
    {
      "cell_type": "markdown",
      "metadata": {
        "id": "8rRs7hmYd6n0"
      },
      "source": [
        "[choose](https://docs.scipy.org/doc/numpy-1.15.0/reference/generated/numpy.random.choice.html) from an array with specific probabiltiy for each value:"
      ]
    },
    {
      "cell_type": "code",
      "execution_count": null,
      "metadata": {
        "id": "XIVuq9rpd6n0"
      },
      "outputs": [],
      "source": [
        "np.random.choice(a = [3,5,1,2], size = 15, replace=True, \\\n",
        "                 p = [0.1,0.2,0.3,0.4])"
      ]
    },
    {
      "cell_type": "markdown",
      "metadata": {
        "id": "QA6hragLd6n1"
      },
      "source": [
        "### Exercise: random arrays\n",
        "\n",
        "1) Create a 4x5x6 array with numbers drawn from a [geometric](https://docs.scipy.org/doc/numpy-1.14.0/reference/generated/numpy.random.geometric.html) distribution with `p=0.1` (the number of trails until success, where the probability of success is `p`)."
      ]
    },
    {
      "cell_type": "code",
      "execution_count": null,
      "metadata": {
        "id": "GUJpU9Aqd6n1"
      },
      "outputs": [],
      "source": []
    },
    {
      "cell_type": "markdown",
      "metadata": {
        "id": "Rlrod5god6n1"
      },
      "source": [
        "2) Normalize a 5x5 random matrix - that is, first subsctract by the minimum and then divide by the new maximum."
      ]
    },
    {
      "cell_type": "code",
      "execution_count": null,
      "metadata": {
        "id": "0jiUZIS1d6n1",
        "scrolled": true
      },
      "outputs": [],
      "source": []
    },
    {
      "cell_type": "markdown",
      "metadata": {
        "id": "AiZJkYd-d6n1"
      },
      "source": [
        "## Broadcasting\n",
        "\n",
        "A very powerful mechanism of NumPy arrays is [broadcasting](https://docs.scipy.org/doc/numpy/user/basics.broadcasting.html).\n",
        "Broadcasting is used when an operation is used on two arrays of different shapes.\n",
        "The rules are:\n",
        "\n",
        "1. If arrays dimension differ, left-pad the smaller array's shape with 1s.\n",
        "1. If the shapes differ, change any dimension of size 1 to match the dimension of the other array.\n",
        "1. If shapes still differ, raise an error.\n",
        "\n",
        "Some exmaples:\n",
        "![broadcasting examples](http://www.astroml.org/_images/fig_broadcast_visual_1.png)"
      ]
    },
    {
      "cell_type": "code",
      "execution_count": 96,
      "metadata": {
        "id": "o9nYOytSd6n1",
        "outputId": "6073e23f-7f13-4726-eb95-756d36c9b477",
        "colab": {
          "base_uri": "https://localhost:8080/"
        }
      },
      "outputs": [
        {
          "output_type": "execute_result",
          "data": {
            "text/plain": [
              "array([5, 6, 7])"
            ]
          },
          "metadata": {},
          "execution_count": 96
        }
      ],
      "source": [
        "np.arange(3) + 5"
      ]
    },
    {
      "cell_type": "code",
      "execution_count": 97,
      "metadata": {
        "id": "5gw4tv3Td6n1",
        "outputId": "67330e3f-a877-4c32-dc3c-559e921eb87e",
        "colab": {
          "base_uri": "https://localhost:8080/"
        }
      },
      "outputs": [
        {
          "output_type": "execute_result",
          "data": {
            "text/plain": [
              "array([[1., 2., 3.],\n",
              "       [1., 2., 3.],\n",
              "       [1., 2., 3.]])"
            ]
          },
          "metadata": {},
          "execution_count": 97
        }
      ],
      "source": [
        "np.ones((3,3)) + np.arange(3)"
      ]
    },
    {
      "cell_type": "code",
      "execution_count": 98,
      "metadata": {
        "id": "PkOOjSl_d6n2",
        "outputId": "eccc39ac-21bb-4cc9-dbba-7729a51ec7fc",
        "colab": {
          "base_uri": "https://localhost:8080/"
        }
      },
      "outputs": [
        {
          "output_type": "execute_result",
          "data": {
            "text/plain": [
              "array([[0, 1, 2],\n",
              "       [1, 2, 3],\n",
              "       [2, 3, 4]])"
            ]
          },
          "metadata": {},
          "execution_count": 98
        }
      ],
      "source": [
        "np.arange(3).reshape((3, 1)) + np.arange(3)"
      ]
    },
    {
      "cell_type": "code",
      "execution_count": 99,
      "metadata": {
        "id": "Ccbo266Hd6n2",
        "outputId": "3c37a3cb-ec2a-4977-ce07-c95803bbf9f8",
        "colab": {
          "base_uri": "https://localhost:8080/",
          "height": 165
        }
      },
      "outputs": [
        {
          "output_type": "error",
          "ename": "ValueError",
          "evalue": "ignored",
          "traceback": [
            "\u001b[0;31m---------------------------------------------------------------------------\u001b[0m",
            "\u001b[0;31mValueError\u001b[0m                                Traceback (most recent call last)",
            "\u001b[0;32m<ipython-input-99-cfcc5ac1db21>\u001b[0m in \u001b[0;36m<module>\u001b[0;34m\u001b[0m\n\u001b[0;32m----> 1\u001b[0;31m \u001b[0mnp\u001b[0m\u001b[0;34m.\u001b[0m\u001b[0mones\u001b[0m\u001b[0;34m(\u001b[0m\u001b[0;34m(\u001b[0m\u001b[0;36m3\u001b[0m\u001b[0;34m,\u001b[0m\u001b[0;36m3\u001b[0m\u001b[0;34m)\u001b[0m\u001b[0;34m)\u001b[0m \u001b[0;34m+\u001b[0m \u001b[0mnp\u001b[0m\u001b[0;34m.\u001b[0m\u001b[0mones\u001b[0m\u001b[0;34m(\u001b[0m\u001b[0;34m(\u001b[0m\u001b[0;36m3\u001b[0m\u001b[0;34m,\u001b[0m\u001b[0;36m2\u001b[0m\u001b[0;34m)\u001b[0m\u001b[0;34m)\u001b[0m\u001b[0;34m\u001b[0m\u001b[0;34m\u001b[0m\u001b[0m\n\u001b[0m",
            "\u001b[0;31mValueError\u001b[0m: operands could not be broadcast together with shapes (3,3) (3,2) "
          ]
        }
      ],
      "source": [
        "np.ones((3,3)) + np.ones((3,2))"
      ]
    },
    {
      "cell_type": "code",
      "execution_count": null,
      "metadata": {
        "id": "pP5gyrEgd6n2"
      },
      "outputs": [],
      "source": [
        "np.ones((3,3,1)) + np.ones((3,1,3))"
      ]
    },
    {
      "cell_type": "markdown",
      "metadata": {
        "id": "D3VpQ4gWd6n2"
      },
      "source": [
        "### Exercise: Broadcasting\n",
        "\n",
        "Given a 1D array `X`, calculate the differences between each two elements of `X` using broadcasting and save it to array `D`."
      ]
    },
    {
      "cell_type": "code",
      "execution_count": null,
      "metadata": {
        "id": "Vx8jiBmNd6n2"
      },
      "outputs": [],
      "source": [
        "X = np.linspace(0, 1, 50)"
      ]
    },
    {
      "cell_type": "code",
      "execution_count": null,
      "metadata": {
        "id": "YuR9Iztnd6n2"
      },
      "outputs": [],
      "source": [
        "# your code here"
      ]
    },
    {
      "cell_type": "code",
      "execution_count": null,
      "metadata": {
        "id": "Iwl-7_sJd6n2"
      },
      "outputs": [],
      "source": [
        "assert D.shape == (50, 50)\n",
        "assert (D.diagonal() == 0).all()\n",
        "assert (D[5,5] == D[-5,-5])"
      ]
    },
    {
      "cell_type": "markdown",
      "metadata": {
        "id": "ObANr7YUd6n3"
      },
      "source": [
        "## Indexing and slicing\n",
        "\n",
        "[Indexing and slicing](https://docs.scipy.org/doc/numpy-dev/user/basics.indexing.html) on 1D arrays is similar to Python lists:"
      ]
    },
    {
      "cell_type": "code",
      "execution_count": null,
      "metadata": {
        "id": "tkxFUA38d6n3"
      },
      "outputs": [],
      "source": [
        "a = np.arange(1, 10)\n",
        "print(a)\n",
        "print(a[3])\n",
        "print(a[2:5])\n",
        "print(a[-2:-5:-1])"
      ]
    },
    {
      "cell_type": "markdown",
      "metadata": {
        "id": "_BHpQ2Wvd6n3"
      },
      "source": [
        "Similarly to lists, values in an array can be mutated.\n",
        "\n",
        "BUT, the size of the array cannot."
      ]
    },
    {
      "cell_type": "code",
      "execution_count": null,
      "metadata": {
        "id": "jsG54c_Gd6n3"
      },
      "outputs": [],
      "source": [
        "print(a)\n",
        "a[3] = 0\n",
        "print(a)"
      ]
    },
    {
      "cell_type": "markdown",
      "metadata": {
        "id": "wbr5H155d6n3"
      },
      "source": [
        "#### However, inconsistent with lists, array slicing returns a **view** rather then a copy, so **changing a slices changes the original array**:"
      ]
    },
    {
      "cell_type": "code",
      "execution_count": null,
      "metadata": {
        "id": "Jg91l8wSd6n3"
      },
      "outputs": [],
      "source": [
        "print(\"Lists:\")\n",
        "a = [1, 2, 3, 4, 5, 6]\n",
        "b = a[2:5]\n",
        "print('a is b?', a is b)\n",
        "print(a)\n",
        "b[0] = 0\n",
        "print(a)"
      ]
    },
    {
      "cell_type": "code",
      "execution_count": null,
      "metadata": {
        "id": "1BjQkZI8d6n4"
      },
      "outputs": [],
      "source": [
        "print(\"Arrays:\")\n",
        "a = np.arange(1, 7)\n",
        "b = a[2:5]\n",
        "print('a is b?', a is b)\n",
        "print(a)\n",
        "b[0] = 0\n",
        "print(a)"
      ]
    },
    {
      "cell_type": "markdown",
      "metadata": {
        "id": "hNFgyAlHd6n4"
      },
      "source": [
        "This is useful if you want to save space and the CPU required by copying arrays, but it can also be dangerous.\n",
        "If you explicitly want a **copy** rather than a **view**, call the `copy` method."
      ]
    },
    {
      "cell_type": "code",
      "execution_count": null,
      "metadata": {
        "id": "zqPYS9e9d6n4"
      },
      "outputs": [],
      "source": [
        "print(\"Arrays:\")\n",
        "a = np.arange(1, 7)\n",
        "b = a[2:5].copy()\n",
        "print('a is b?', a is b)\n",
        "print(a)\n",
        "b[0] = 0\n",
        "print(a)"
      ]
    },
    {
      "cell_type": "markdown",
      "metadata": {
        "id": "6LYf3IlId6n4"
      },
      "source": [
        "Arrays support multidimensional indexing and slicing:"
      ]
    },
    {
      "cell_type": "code",
      "execution_count": null,
      "metadata": {
        "id": "Pf6-M5Xxd6n4"
      },
      "outputs": [],
      "source": [
        "a = np.zeros((3,3))\n",
        "a[1,1] = 1\n",
        "print(a)"
      ]
    },
    {
      "cell_type": "code",
      "execution_count": null,
      "metadata": {
        "id": "HBVlpIQ0d6n5"
      },
      "outputs": [],
      "source": [
        "a = np.diag([1,2,3])\n",
        "print(a)\n",
        "print()\n",
        "print(a[:2,1:])"
      ]
    },
    {
      "cell_type": "code",
      "execution_count": null,
      "metadata": {
        "id": "y589gzOVd6n5"
      },
      "outputs": [],
      "source": [
        "y = np.arange(35).reshape(5,7)\n",
        "print(y)"
      ]
    },
    {
      "cell_type": "code",
      "execution_count": null,
      "metadata": {
        "id": "3Ym2zrm8d6n5"
      },
      "outputs": [],
      "source": [
        "print(y[0])\n",
        "print(y[0,:])"
      ]
    },
    {
      "cell_type": "code",
      "execution_count": null,
      "metadata": {
        "id": "ABQU-tVnd6n5"
      },
      "outputs": [],
      "source": [
        "print(y[:,1])"
      ]
    },
    {
      "cell_type": "markdown",
      "metadata": {
        "id": "llQYIDmld6n5"
      },
      "source": [
        "Notice the difference between slicing by mentioning a specific column, and a range of columns:"
      ]
    },
    {
      "cell_type": "code",
      "execution_count": null,
      "metadata": {
        "id": "TxYnzodgd6n5"
      },
      "outputs": [],
      "source": [
        "print(y[:,1])"
      ]
    },
    {
      "cell_type": "code",
      "execution_count": null,
      "metadata": {
        "id": "BhN7TVdGd6n5"
      },
      "outputs": [],
      "source": [
        "print(y[:,1:2])"
      ]
    },
    {
      "cell_type": "markdown",
      "metadata": {
        "id": "U3By8Ceyd6n6"
      },
      "source": [
        "Arrays can also be indexed using an array or list of indices, this is called **fancy indexing**:"
      ]
    },
    {
      "cell_type": "code",
      "execution_count": null,
      "metadata": {
        "id": "K2GZZoWld6n6"
      },
      "outputs": [],
      "source": [
        "a = np.arange(10, 30, 1)\n",
        "print(a)\n",
        "b = a[[1, 6, 9]]\n",
        "print(b)\n",
        "b = a[[1, 6, 9, 9, 9, 9, 9, 9]]\n",
        "print(b)"
      ]
    },
    {
      "cell_type": "code",
      "execution_count": null,
      "metadata": {
        "id": "24tD88h0d6n6"
      },
      "outputs": [],
      "source": [
        "y = np.arange(35).reshape(5,7)\n",
        "print(y, end='\\n\\n')\n",
        "print(y[[1,2,2,3]])"
      ]
    },
    {
      "cell_type": "code",
      "execution_count": null,
      "metadata": {
        "id": "-t3UiCUPd6n6"
      },
      "outputs": [],
      "source": [
        "print(y[ [0, 2], [1, 2] ])"
      ]
    },
    {
      "cell_type": "markdown",
      "metadata": {
        "id": "gGMaZ0nvd6n6"
      },
      "source": [
        "If one of the indexing lists is smaller than the other, NumPy will attempt broadcasting:"
      ]
    },
    {
      "cell_type": "code",
      "execution_count": null,
      "metadata": {
        "id": "cVKLLMqpd6n6"
      },
      "outputs": [],
      "source": [
        "print(y[ [0, 2], [1] ])"
      ]
    },
    {
      "cell_type": "markdown",
      "metadata": {
        "id": "9r87ct_2d6n7"
      },
      "source": [
        "But broadcasting isn't always possible:"
      ]
    },
    {
      "cell_type": "code",
      "execution_count": null,
      "metadata": {
        "id": "147sJTCld6n7"
      },
      "outputs": [],
      "source": [
        "y[[0,2,4], [0,1]]"
      ]
    },
    {
      "cell_type": "markdown",
      "metadata": {
        "id": "IPOgFNzDd6n8"
      },
      "source": [
        "The broadcasting mechanism permits index arrays to be combined with scalars for other indices. The effect is that the scalar value is used for all the corresponding values of the index arrays:"
      ]
    },
    {
      "cell_type": "code",
      "execution_count": null,
      "metadata": {
        "id": "kv_v4rMdd6n8"
      },
      "outputs": [],
      "source": [
        "print(y[[0,2,4], 1])"
      ]
    },
    {
      "cell_type": "markdown",
      "metadata": {
        "id": "qUGXznMvd6n9"
      },
      "source": [
        "## Boolean or mask arrays\n",
        "\n",
        "You can create boolean arrays by using the comparison operators:"
      ]
    },
    {
      "cell_type": "code",
      "execution_count": null,
      "metadata": {
        "id": "XU32YN8Td6n9"
      },
      "outputs": [],
      "source": [
        "a = np.random.random(size=(4, 4))\n",
        "print(a, end='\\n\\n')\n",
        "b = a < 0.5\n",
        "print(b, end='\\n\\n')\n",
        "print(b.sum())"
      ]
    },
    {
      "cell_type": "markdown",
      "metadata": {
        "id": "typF-JB8d6n9"
      },
      "source": [
        "These boolean arrays can be used for indexing:"
      ]
    },
    {
      "cell_type": "code",
      "execution_count": null,
      "metadata": {
        "id": "7HcYhPh9d6n9"
      },
      "outputs": [],
      "source": [
        "c = np.arange(16).reshape((4, 4))\n",
        "np.random.shuffle(c)\n",
        "print(c, end='\\n\\n')\n",
        "print(c > 5, end='\\n\\n')\n",
        "print(c[c > 5])"
      ]
    },
    {
      "cell_type": "markdown",
      "metadata": {
        "id": "c31CkIbHd6n-"
      },
      "source": [
        "### Exercise: mask arrays\n",
        "\n",
        "Given a 1D array, negate (i.e. turn to negative) all elements which are between 3 and 8 (including both), in place (i.e. without creating a new array).\n",
        "\n",
        "Note 1: you cannot use `and` because it acts on two booleans, whereas we want to do an elementwise \"and\". This is done using the operator `&`. \n",
        "\n",
        "Note 2: `&` is a Python bitwise operator which precedes arithmetic operators."
      ]
    },
    {
      "cell_type": "code",
      "execution_count": null,
      "metadata": {
        "id": "o7KlM9BQd6n-",
        "scrolled": true
      },
      "outputs": [],
      "source": [
        "Z = np.arange(11)\n",
        "print(Z)"
      ]
    },
    {
      "cell_type": "code",
      "execution_count": null,
      "metadata": {
        "id": "DgH5YmaLd6n_"
      },
      "outputs": [],
      "source": [
        "# Your code here\n",
        "print(Z)"
      ]
    },
    {
      "cell_type": "markdown",
      "metadata": {
        "id": "hiBhsMbdd6n_"
      },
      "source": [
        "# \"Losing Your Loops\": Fast Numerical Computing with NumPy \n",
        "\n",
        "From the PyCon 2015 conferece, a [presentation](https://speakerdeck.com/jakevdp/losing-your-loops-fast-numerical-computing-with-numpy-pycon-2015) by [Jake VanderPlas](http://vanderplas.com).\n",
        "\n",
        "Also available on [YouTube](https://www.youtube.com/watch?v=EEUXKG97YRw)."
      ]
    },
    {
      "cell_type": "markdown",
      "metadata": {
        "id": "RWXtZNCed6n_"
      },
      "source": [
        "# References\n",
        "\n",
        "- [NumPy MedKit](http://mentat.za.net/numpy/numpy_advanced_slides/) for much more on indexing, slicing, and other advanced NumPy tricks.\n",
        "- [NumPy tutorial](https://github.com/rougier/numpy-tutorial) with some exercises.\n",
        "- [NumPy basics](https://docs.scipy.org/doc/numpy/user/basics.html)\n",
        "- [NumPy for MATLAB users](https://docs.scipy.org/doc/numpy/user/numpy-for-matlab-users.html)\n",
        "- [100 NumPy exercise](https://github.com/rougier/numpy-100)"
      ]
    },
    {
      "cell_type": "markdown",
      "metadata": {
        "id": "X5gGlmusd6n_"
      },
      "source": [
        "# Colophon\n",
        "This notebook was written by [Yoav Ram](http://python.yoavram.com).\n",
        "\n",
        "The notebook was written using [Python](http://python.org/) 3.7.\n",
        "Dependencies listed in [environment.yml](../environment.yml).\n",
        "\n",
        "This work is licensed under a CC BY-NC-SA 4.0 International License.\n",
        "\n",
        "![Python logo](https://www.python.org/static/community_logos/python-logo.png)"
      ]
    }
  ],
  "metadata": {
    "colab": {
      "provenance": []
    },
    "kernelspec": {
      "display_name": "Python 3 (ipykernel)",
      "language": "python",
      "name": "python3"
    },
    "language_info": {
      "codemirror_mode": {
        "name": "ipython",
        "version": 3
      },
      "file_extension": ".py",
      "mimetype": "text/x-python",
      "name": "python",
      "nbconvert_exporter": "python",
      "pygments_lexer": "ipython3",
      "version": "3.11.0"
    }
  },
  "nbformat": 4,
  "nbformat_minor": 0
}