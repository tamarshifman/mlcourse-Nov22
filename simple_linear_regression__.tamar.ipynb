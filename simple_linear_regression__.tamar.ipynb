{
  "cells": [
    {
      "cell_type": "markdown",
      "metadata": {
        "id": "view-in-github",
        "colab_type": "text"
      },
      "source": [
        "<a href=\"https://colab.research.google.com/github/tamarshifman/mlcourse-Nov22/blob/main/simple_linear_regression__.tamar.ipynb\" target=\"_parent\"><img src=\"https://colab.research.google.com/assets/colab-badge.svg\" alt=\"Open In Colab\"/></a>"
      ]
    },
    {
      "cell_type": "markdown",
      "metadata": {
        "id": "ezpLq3LQeK3j"
      },
      "source": [
        "<a href=\"https://githubtocolab.com/alevant/mlcourse-Nov22/blob/main/linear_regression_1.ipynb\" target=\"_parent\"><img src=\"https://colab.research.google.com/assets/colab-badge.svg\" alt=\"Open in Colab\"/></a>"
      ]
    },
    {
      "cell_type": "code",
      "source": [
        "!git clone https://github.com/tamarshifman/mlcourse-Nov22 mlcourse"
      ],
      "metadata": {
        "id": "aZ0T2zvh7yK7",
        "outputId": "7100e890-fc97-4dbd-fa0b-f4417bd69530",
        "colab": {
          "base_uri": "https://localhost:8080/"
        }
      },
      "execution_count": null,
      "outputs": [
        {
          "output_type": "stream",
          "name": "stdout",
          "text": [
            "fatal: destination path 'mlcourse' already exists and is not an empty directory.\n"
          ]
        }
      ]
    },
    {
      "cell_type": "code",
      "execution_count": null,
      "metadata": {
        "id": "R9baDh81zFIX"
      },
      "outputs": [],
      "source": [
        "import pandas as pd\n",
        "import numpy as np\n",
        "import matplotlib.pyplot as plt\n",
        "%matplotlib inline\n",
        "import datetime\n"
      ]
    },
    {
      "cell_type": "markdown",
      "source": [
        "This is ice cream data  - x- independent varalbe - temp, y- sales"
      ],
      "metadata": {
        "id": "G2VcGNxFJEsK"
      }
    },
    {
      "cell_type": "code",
      "source": [
        "x = np.array([14.2, 16.4, 11.9, 15.2,18.5, 22.1, 19.4, 25.1, 23.4, 18.1, 22.6, 17.2])\n",
        "y = np.array([215,325,185,332,406,522,412,614,544,421,445,408])"
      ],
      "metadata": {
        "id": "NY4mjiKtZBfp"
      },
      "execution_count": null,
      "outputs": []
    },
    {
      "cell_type": "markdown",
      "source": [
        "Let's plot a scatter plot"
      ],
      "metadata": {
        "id": "_ZCKkY6mJOXZ"
      }
    },
    {
      "cell_type": "code",
      "source": [
        "plt.scatter(x,y, color = 'red')\n",
        "\n",
        "plt.title('Ice cream sales')\n",
        "plt.xlabel('Temp (C)')\n",
        "plt.ylabel('SAles ($)')\n",
        "plt.show()"
      ],
      "metadata": {
        "id": "7hRwYKzEZ2XR",
        "outputId": "aadccbff-c61b-4915-d34d-21d3bf7a555d",
        "colab": {
          "base_uri": "https://localhost:8080/",
          "height": 295
        }
      },
      "execution_count": null,
      "outputs": [
        {
          "output_type": "display_data",
          "data": {
            "text/plain": [
              "<Figure size 432x288 with 1 Axes>"
            ],
            "image/png": "[encoded data removed]"
          },
          "metadata": {
            "needs_background": "light"
          }
        }
      ]
    },
    {
      "cell_type": "markdown",
      "source": [
        "\n",
        "\n",
        "Train model on the data\n",
        "\n"
      ],
      "metadata": {
        "id": "TiEQiNR-JTT7"
      }
    },
    {
      "cell_type": "code",
      "source": [
        "# training the simple linear regresion on trainning set\n",
        "from sklearn.linear_model import LinearRegression\n",
        "regressor = LinearRegression()\n",
        "regressor.fit(x.reshape(-1, 1),y)\n",
        "y_predict = regressor.predict(x.reshape(-1, 1))"
      ],
      "metadata": {
        "id": "SLhKMWxzaGJW"
      },
      "execution_count": null,
      "outputs": []
    },
    {
      "cell_type": "code",
      "source": [
        "print('The parameters of the model y=ax+b are')\n",
        "print(f'a={regressor.coef_[0]}')\n",
        "print(f'b={regressor.intercept_}')\n"
      ],
      "metadata": {
        "id": "-oX6i7CTaYbV",
        "outputId": "b43d1e3e-3bd2-4db8-ed23-1a6652f9b950",
        "colab": {
          "base_uri": "https://localhost:8080/"
        }
      },
      "execution_count": null,
      "outputs": [
        {
          "output_type": "stream",
          "name": "stdout",
          "text": [
            "The parameters of the model y=ax+b are\n",
            "a=30.087861794245185\n",
            "b=-159.4741523408622\n"
          ]
        }
      ]
    },
    {
      "cell_type": "markdown",
      "source": [
        "Plot data and the model"
      ],
      "metadata": {
        "id": "r3Ig-4WVJZkd"
      }
    },
    {
      "cell_type": "code",
      "source": [
        "plt.scatter(x,y, color = 'red')\n",
        "plt.plot(x,y_predict, color ='blue')\n",
        "plt.title('Ice cream sales')\n",
        "plt.xlabel('Temp (C)')\n",
        "plt.ylabel('Sales ($)')\n",
        "plt.show()"
      ],
      "metadata": {
        "id": "mNUpLkLjahZa",
        "outputId": "7e2cf2e9-8875-4afc-de1e-e4d13dbe0a26",
        "colab": {
          "base_uri": "https://localhost:8080/",
          "height": 295
        }
      },
      "execution_count": null,
      "outputs": [
        {
          "output_type": "display_data",
          "data": {
            "text/plain": [
              "<Figure size 432x288 with 1 Axes>"
            ],
            "image/png": "[encoded data removed]"
          },
          "metadata": {
            "needs_background": "light"
          }
        }
      ]
    },
    {
      "cell_type": "markdown",
      "source": [
        "Predict sales at 13 deg"
      ],
      "metadata": {
        "id": "zJZbC4fnJdiI"
      }
    },
    {
      "cell_type": "code",
      "source": [
        "y_predict_13 = regressor.predict([[13]])\n",
        "y_predict_13"
      ],
      "metadata": {
        "id": "S12ullGqc0iE",
        "outputId": "419d6c6f-e387-42c8-fc79-6b3fb6b6cd3d",
        "colab": {
          "base_uri": "https://localhost:8080/"
        }
      },
      "execution_count": null,
      "outputs": [
        {
          "output_type": "execute_result",
          "data": {
            "text/plain": [
              "array([231.66805098])"
            ]
          },
          "metadata": {},
          "execution_count": 10
        }
      ]
    },
    {
      "cell_type": "markdown",
      "source": [
        "Plot residuals"
      ],
      "metadata": {
        "id": "Fq4JhItjJksa"
      }
    },
    {
      "cell_type": "code",
      "source": [
        "plt.scatter(x,y-y_predict, color = 'red')\n",
        "plt.title('Ice cream sales')\n",
        "plt.xlabel('Temp (C)')\n",
        "plt.ylabel('Error ($)')\n",
        "plt.show()"
      ],
      "metadata": {
        "id": "E08_yENucDSe",
        "outputId": "d807687d-5cbd-4502-82d3-6fc6915475c6",
        "colab": {
          "base_uri": "https://localhost:8080/",
          "height": 295
        }
      },
      "execution_count": null,
      "outputs": [
        {
          "output_type": "display_data",
          "data": {
            "text/plain": [
              "<Figure size 432x288 with 1 Axes>"
            ],
            "image/png": "[encoded data removed]"
          },
          "metadata": {
            "needs_background": "light"
          }
        }
      ]
    },
    {
      "cell_type": "markdown",
      "source": [
        "Show metrics of model goodness"
      ],
      "metadata": {
        "id": "22aBkWGGJo-9"
      }
    },
    {
      "cell_type": "code",
      "source": [
        "from sklearn import metrics\n",
        "metrics.mean_squared_error(y, y_predict)\n",
        "print(\"MSE: {:.4f}\".format(metrics.mean_squared_error(y, y_predict)))\n",
        "print(\"R^2: {:.4f}\".format(regressor.score(x.reshape(-1, 1),y)))"
      ],
      "metadata": {
        "id": "u4mNNKxZbb57",
        "outputId": "3d754cc1-2467-418e-cde6-4542fe69d040",
        "colab": {
          "base_uri": "https://localhost:8080/"
        }
      },
      "execution_count": null,
      "outputs": [
        {
          "output_type": "stream",
          "name": "stdout",
          "text": [
            "MSE: 1211.3584\n",
            "R^2: 0.9168\n"
          ]
        }
      ]
    },
    {
      "cell_type": "markdown",
      "source": [
        "Another way to calculate linear regression model including p=value"
      ],
      "metadata": {
        "id": "B2nQgZ6vJuXV"
      }
    },
    {
      "cell_type": "code",
      "source": [
        "from scipy import stats\n",
        "slope, inter, rval, pval, se = stats.linregress(x,y)\n",
        "print(f'a={slope}')\n",
        "print(f'b={inter}')\n",
        "print(\"R^2: {:.4f}\".format(rval**2))\n",
        "print(\"p-val: {:.4f}\".format(pval))"
      ],
      "metadata": {
        "id": "TXNWm6CaqOA_",
        "outputId": "9258780e-fcc4-4a85-ae8c-2b7a9824dee5",
        "colab": {
          "base_uri": "https://localhost:8080/"
        }
      },
      "execution_count": null,
      "outputs": [
        {
          "output_type": "stream",
          "name": "stdout",
          "text": [
            "a=30.087861794245196\n",
            "b=-159.47415234086242\n",
            "R^2: 0.9168\n",
            "p-val: 0.0000\n"
          ]
        }
      ]
    },
    {
      "cell_type": "markdown",
      "source": [
        "Another larger Data Set we will split data to train and test"
      ],
      "metadata": {
        "id": "VFq_ohFMb7Hi"
      }
    },
    {
      "cell_type": "code",
      "execution_count": null,
      "metadata": {
        "id": "bKggYlrnzFIa"
      },
      "outputs": [],
      "source": [
        "df =pd.read_csv(\"mlcourse/data/Salary_Data.csv\")"
      ]
    },
    {
      "cell_type": "code",
      "execution_count": null,
      "metadata": {
        "id": "cAilHcSlzFIb",
        "outputId": "1fe8566a-49f8-4465-e88f-a21890deaeeb",
        "colab": {
          "base_uri": "https://localhost:8080/",
          "height": 206
        }
      },
      "outputs": [
        {
          "output_type": "execute_result",
          "data": {
            "text/plain": [
              "   YearsExperience   Salary\n",
              "0              1.1  39343.0\n",
              "1              1.3  46205.0\n",
              "2              1.5  37731.0\n",
              "3              2.0  43525.0\n",
              "4              2.2  39891.0"
            ],
            "text/html": [
              "\n",
              "  <div id=\"df-ab087db7-1bc1-4b24-bd30-49d4a6482570\">\n",
              "    <div class=\"colab-df-container\">\n",
              "      <div>\n",
              "<style scoped>\n",
              "    .dataframe tbody tr th:only-of-type {\n",
              "        vertical-align: middle;\n",
              "    }\n",
              "\n",
              "    .dataframe tbody tr th {\n",
              "        vertical-align: top;\n",
              "    }\n",
              "\n",
              "    .dataframe thead th {\n",
              "        text-align: right;\n",
              "    }\n",
              "</style>\n",
              "<table border=\"1\" class=\"dataframe\">\n",
              "  <thead>\n",
              "    <tr style=\"text-align: right;\">\n",
              "      <th></th>\n",
              "      <th>YearsExperience</th>\n",
              "      <th>Salary</th>\n",
              "    </tr>\n",
              "  </thead>\n",
              "  <tbody>\n",
              "    <tr>\n",
              "      <th>0</th>\n",
              "      <td>1.1</td>\n",
              "      <td>39343.0</td>\n",
              "    </tr>\n",
              "    <tr>\n",
              "      <th>1</th>\n",
              "      <td>1.3</td>\n",
              "      <td>46205.0</td>\n",
              "    </tr>\n",
              "    <tr>\n",
              "      <th>2</th>\n",
              "      <td>1.5</td>\n",
              "      <td>37731.0</td>\n",
              "    </tr>\n",
              "    <tr>\n",
              "      <th>3</th>\n",
              "      <td>2.0</td>\n",
              "      <td>43525.0</td>\n",
              "    </tr>\n",
              "    <tr>\n",
              "      <th>4</th>\n",
              "      <td>2.2</td>\n",
              "      <td>39891.0</td>\n",
              "    </tr>\n",
              "  </tbody>\n",
              "</table>\n",
              "</div>\n",
              "      <button class=\"colab-df-convert\" onclick=\"convertToInteractive('df-ab087db7-1bc1-4b24-bd30-49d4a6482570')\"\n",
              "              title=\"Convert this dataframe to an interactive table.\"\n",
              "              style=\"display:none;\">\n",
              "        \n",
              "  <svg xmlns=\"http://www.w3.org/2000/svg\" height=\"24px\"viewBox=\"0 0 24 24\"\n",
              "       width=\"24px\">\n",
              "    <path d=\"M0 0h24v24H0V0z\" fill=\"none\"/>\n",
              "    <path d=\"M18.56 5.44l.94 2.06.94-2.06 2.06-.94-2.06-.94-.94-2.06-.94 2.06-2.06.94zm-11 1L8.5 8.5l.94-2.06 2.06-.94-2.06-.94L8.5 2.5l-.94 2.06-2.06.94zm10 10l.94 2.06.94-2.06 2.06-.94-2.06-.94-.94-2.06-.94 2.06-2.06.94z\"/><path d=\"M17.41 7.96l-1.37-1.37c-.4-.4-.92-.59-1.43-.59-.52 0-1.04.2-1.43.59L10.3 9.45l-7.72 7.72c-.78.78-.78 2.05 0 2.83L4 21.41c.39.39.9.59 1.41.59.51 0 1.02-.2 1.41-.59l7.78-7.78 2.81-2.81c.8-.78.8-2.07 0-2.86zM5.41 20L4 18.59l7.72-7.72 1.47 1.35L5.41 20z\"/>\n",
              "  </svg>\n",
              "      </button>\n",
              "      \n",
              "  <style>\n",
              "    .colab-df-container {\n",
              "      display:flex;\n",
              "      flex-wrap:wrap;\n",
              "      gap: 12px;\n",
              "    }\n",
              "\n",
              "    .colab-df-convert {\n",
              "      background-color: #E8F0FE;\n",
              "      border: none;\n",
              "      border-radius: 50%;\n",
              "      cursor: pointer;\n",
              "      display: none;\n",
              "      fill: #1967D2;\n",
              "      height: 32px;\n",
              "      padding: 0 0 0 0;\n",
              "      width: 32px;\n",
              "    }\n",
              "\n",
              "    .colab-df-convert:hover {\n",
              "      background-color: #E2EBFA;\n",
              "      box-shadow: 0px 1px 2px rgba(60, 64, 67, 0.3), 0px 1px 3px 1px rgba(60, 64, 67, 0.15);\n",
              "      fill: #174EA6;\n",
              "    }\n",
              "\n",
              "    [theme=dark] .colab-df-convert {\n",
              "      background-color: #3B4455;\n",
              "      fill: #D2E3FC;\n",
              "    }\n",
              "\n",
              "    [theme=dark] .colab-df-convert:hover {\n",
              "      background-color: #434B5C;\n",
              "      box-shadow: 0px 1px 3px 1px rgba(0, 0, 0, 0.15);\n",
              "      filter: drop-shadow(0px 1px 2px rgba(0, 0, 0, 0.3));\n",
              "      fill: #FFFFFF;\n",
              "    }\n",
              "  </style>\n",
              "\n",
              "      <script>\n",
              "        const buttonEl =\n",
              "          document.querySelector('#df-ab087db7-1bc1-4b24-bd30-49d4a6482570 button.colab-df-convert');\n",
              "        buttonEl.style.display =\n",
              "          google.colab.kernel.accessAllowed ? 'block' : 'none';\n",
              "\n",
              "        async function convertToInteractive(key) {\n",
              "          const element = document.querySelector('#df-ab087db7-1bc1-4b24-bd30-49d4a6482570');\n",
              "          const dataTable =\n",
              "            await google.colab.kernel.invokeFunction('convertToInteractive',\n",
              "                                                     [key], {});\n",
              "          if (!dataTable) return;\n",
              "\n",
              "          const docLinkHtml = 'Like what you see? Visit the ' +\n",
              "            '<a target=\"_blank\" href=https://colab.research.google.com/notebooks/data_table.ipynb>data table notebook</a>'\n",
              "            + ' to learn more about interactive tables.';\n",
              "          element.innerHTML = '';\n",
              "          dataTable['output_type'] = 'display_data';\n",
              "          await google.colab.output.renderOutput(dataTable, element);\n",
              "          const docLink = document.createElement('div');\n",
              "          docLink.innerHTML = docLinkHtml;\n",
              "          element.appendChild(docLink);\n",
              "        }\n",
              "      </script>\n",
              "    </div>\n",
              "  </div>\n",
              "  "
            ]
          },
          "metadata": {},
          "execution_count": 15
        }
      ],
      "source": [
        "df.head()"
      ]
    },
    {
      "cell_type": "code",
      "execution_count": null,
      "metadata": {
        "id": "krhip4SPzFIc",
        "colab": {
          "base_uri": "https://localhost:8080/"
        },
        "outputId": "37de33b5-4152-4832-f363-1d179df806f0"
      },
      "outputs": [
        {
          "output_type": "execute_result",
          "data": {
            "text/plain": [
              "array([ 39343.,  46205.,  37731.,  43525.,  39891.,  56642.,  60150.,\n",
              "        54445.,  64445.,  57189.,  63218.,  55794.,  56957.,  57081.,\n",
              "        61111.,  67938.,  66029.,  83088.,  81363.,  93940.,  91738.,\n",
              "        98273., 101302., 113812., 109431., 105582., 116969., 112635.,\n",
              "       122391., 121872.])"
            ]
          },
          "metadata": {},
          "execution_count": 17
        }
      ],
      "source": [
        "x=df.iloc[:,-2].values\n",
        "y=df.iloc[:,-1].values\n",
        "x\n",
        "y\n"
      ]
    },
    {
      "cell_type": "markdown",
      "source": [
        "Exercise: For this example \n",
        "\n",
        "1.  Show scatter plot\n",
        "2.  Fit the model get coef a&b\n",
        "3.  Plot data and fittef model\n",
        "4.  Check residuals\n",
        "5.  Calculate MSE and R2"
      ],
      "metadata": {
        "id": "TmVQfQFwLCv6"
      }
    },
    {
      "cell_type": "code",
      "source": [
        "plt.scatter(x,y, color = 'red')\n",
        "regressor = LinearRegression()\n",
        "regressor.fit(x.reshape(-1, 1),y)\n",
        "y_predict = regressor.predict(x.reshape(-1, 1))\n",
        "plt.plot(x,y_predict, color ='blue')\n",
        "plt.show()\n",
        "\n",
        "plt.scatter(x,y-y_predict, color = 'green')\n",
        "plt.title('Ice cream sales')\n",
        "plt.xlabel('Temp (C)')\n",
        "plt.ylabel('Error ($)')\n",
        "plt.show()\n",
        "\n",
        "print(\"MSE: {:.4f}\".format(metrics.mean_squared_error(y, y_predict)))\n",
        "print(\"R^2: {:.4f}\".format(regressor.score(x.reshape(-1, 1),y)))\n"
      ],
      "metadata": {
        "id": "oRrKzDHl_qAO",
        "colab": {
          "base_uri": "https://localhost:8080/",
          "height": 579
        },
        "outputId": "e02db31a-96e5-4a74-d9b7-80abf821ecb1"
      },
      "execution_count": null,
      "outputs": [
        {
          "output_type": "display_data",
          "data": {
            "text/plain": [
              "<Figure size 432x288 with 1 Axes>"
            ],
            "image/png": "[encoded data removed]"
          },
          "metadata": {
            "needs_background": "light"
          }
        },
        {
          "output_type": "display_data",
          "data": {
            "text/plain": [
              "<Figure size 432x288 with 1 Axes>"
            ],
            "image/png": "[encoded data removed]"
          },
          "metadata": {
            "needs_background": "light"
          }
        },
        {
          "output_type": "stream",
          "name": "stdout",
          "text": [
            "MSE: 31270951.7223\n",
            "R^2: 0.9570\n"
          ]
        }
      ]
    },
    {
      "cell_type": "markdown",
      "source": [
        "Let's separate it now to train and test to avoid overfit"
      ],
      "metadata": {
        "id": "XGNFAG-z_wq8"
      }
    },
    {
      "cell_type": "code",
      "source": [
        "from sklearn.model_selection import train_test_split\n",
        "x_train,x_test,y_train,y_test = train_test_split(x,y,test_size=0.3,random_state=0)"
      ],
      "metadata": {
        "id": "RIQcdHZGIAn1"
      },
      "execution_count": null,
      "outputs": []
    }
  ],
  "metadata": {
    "kernelspec": {
      "display_name": "Python 3",
      "language": "python",
      "name": "python3"
    },
    "language_info": {
      "codemirror_mode": {
        "name": "ipython",
        "version": 3
      },
      "file_extension": ".py",
      "mimetype": "text/x-python",
      "name": "python",
      "nbconvert_exporter": "python",
      "pygments_lexer": "ipython3",
      "version": "3.8.5"
    },
    "colab": {
      "name": "simple linear regression 1.ipynb",
      "provenance": [],
      "include_colab_link": true
    }
  },
  "nbformat": 4,
  "nbformat_minor": 0
}