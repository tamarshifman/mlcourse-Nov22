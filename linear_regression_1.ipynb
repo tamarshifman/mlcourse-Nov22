{
  "cells": [
    {
      "cell_type": "markdown",
      "metadata": {
        "id": "ezpLq3LQeK3j"
      },
      "source": [
        "<a href=\"https://githubtocolab.com/alevant/mlcourse-Nov22/blob/main/linear_regression_1.ipynb\" target=\"_parent\"><img src=\"https://colab.research.google.com/assets/colab-badge.svg\" alt=\"Open in Colab\"/></a>"
      ]
    },
    {
      "cell_type": "code",
      "source": [
        "!git clone https://github.com/alevant/mlcourse-Nov22 mlcourse"
      ],
      "metadata": {
        "id": "aZ0T2zvh7yK7",
        "outputId": "00bec43f-9a29-4715-fcc9-30c5a7c8ff20",
        "colab": {
          "base_uri": "https://localhost:8080/"
        }
      },
      "execution_count": 1,
      "outputs": [
        {
          "output_type": "stream",
          "name": "stdout",
          "text": [
            "Cloning into 'mlcourse'...\n",
            "remote: Enumerating objects: 101, done.\u001b[K\n",
            "remote: Counting objects: 100% (48/48), done.\u001b[K\n",
            "remote: Compressing objects: 100% (46/46), done.\u001b[K\n",
            "remote: Total 101 (delta 24), reused 2 (delta 2), pack-reused 53\u001b[K\n",
            "Receiving objects: 100% (101/101), 9.45 MiB | 29.96 MiB/s, done.\n",
            "Resolving deltas: 100% (37/37), done.\n"
          ]
        }
      ]
    },
    {
      "cell_type": "code",
      "execution_count": 2,
      "metadata": {
        "id": "R9baDh81zFIX"
      },
      "outputs": [],
      "source": [
        "import pandas as pd\n",
        "import numpy as np\n",
        "import matplotlib.pyplot as plt\n",
        "%matplotlib inline\n",
        "import datetime\n"
      ]
    },
    {
      "cell_type": "markdown",
      "source": [
        "This is ice cream data  - x- independent varalbe - temp, y- sales"
      ],
      "metadata": {
        "id": "G2VcGNxFJEsK"
      }
    },
    {
      "cell_type": "code",
      "source": [
        "x = np.array([14.2, 16.4, 11.9, 15.2,18.5, 22.1, 19.4, 25.1, 23.4, 18.1, 22.6, 17.2])\n",
        "y = np.array([215,325,185,332,406,522,412,614,544,421,445,408])"
      ],
      "metadata": {
        "id": "NY4mjiKtZBfp"
      },
      "execution_count": 3,
      "outputs": []
    },
    {
      "cell_type": "markdown",
      "source": [
        "Let's plot a scatter plot"
      ],
      "metadata": {
        "id": "_ZCKkY6mJOXZ"
      }
    },
    {
      "cell_type": "code",
      "source": [
        "plt.scatter(x,y, color = 'red')\n",
        "plt.title('Ice cream sales')\n",
        "plt.xlabel('Temp (C)')\n",
        "plt.ylabel('SAles ($)')\n",
        "plt.show()"
      ],
      "metadata": {
        "id": "7hRwYKzEZ2XR",
        "outputId": "5be11754-8950-4060-cbbd-02258a83d696",
        "colab": {
          "base_uri": "https://localhost:8080/",
          "height": 295
        }
      },
      "execution_count": 4,
      "outputs": [
        {
          "output_type": "display_data",
          "data": {
            "text/plain": [
              "<Figure size 432x288 with 1 Axes>"
            ],
            "image/png": "[encoded data removed]"
          },
          "metadata": {
            "needs_background": "light"
          }
        }
      ]
    },
    {
      "cell_type": "markdown",
      "source": [
        "\n",
        "\n",
        "Train model on the data\n",
        "\n"
      ],
      "metadata": {
        "id": "TiEQiNR-JTT7"
      }
    },
    {
      "cell_type": "code",
      "source": [
        "# training the simple linear regresion on trainning set\n",
        "from sklearn.linear_model import LinearRegression\n",
        "regressor = LinearRegression()\n",
        "x = x.reshape(-1, 1)\n",
        "regressor.fit(x,y)\n",
        "y_predict = regressor.predict(x)"
      ],
      "metadata": {
        "id": "SLhKMWxzaGJW"
      },
      "execution_count": 5,
      "outputs": []
    },
    {
      "cell_type": "code",
      "source": [
        "print('The parameters of the model y=ax+b are')\n",
        "print(f'a={regressor.coef_[0]}')\n",
        "print(f'b={regressor.intercept_}')\n"
      ],
      "metadata": {
        "id": "-oX6i7CTaYbV",
        "outputId": "b8366699-ebc2-436a-9b72-e19aa3ec1525",
        "colab": {
          "base_uri": "https://localhost:8080/"
        }
      },
      "execution_count": 6,
      "outputs": [
        {
          "output_type": "stream",
          "name": "stdout",
          "text": [
            "The parameters of the model y=ax+b are\n",
            "a=30.087861794245185\n",
            "b=-159.4741523408622\n"
          ]
        }
      ]
    },
    {
      "cell_type": "markdown",
      "source": [
        "Plot data and the model"
      ],
      "metadata": {
        "id": "r3Ig-4WVJZkd"
      }
    },
    {
      "cell_type": "code",
      "source": [
        "plt.scatter(x,y, color = 'red')\n",
        "plt.plot(x,y_predict, color ='blue')\n",
        "plt.title('Ice cream sales')\n",
        "plt.xlabel('Temp (C)')\n",
        "plt.ylabel('Sales ($)')\n",
        "plt.show()"
      ],
      "metadata": {
        "id": "mNUpLkLjahZa",
        "outputId": "94ae1078-3bbd-4fe6-ddcb-7e809122d8e7",
        "colab": {
          "base_uri": "https://localhost:8080/",
          "height": 295
        }
      },
      "execution_count": null,
      "outputs": [
        {
          "output_type": "display_data",
          "data": {
            "text/plain": [
              "<Figure size 432x288 with 1 Axes>"
            ],
            "image/png": "[encoded data removed]"
          },
          "metadata": {
            "needs_background": "light"
          }
        }
      ]
    },
    {
      "cell_type": "markdown",
      "source": [
        "Predict sales at 13 deg"
      ],
      "metadata": {
        "id": "zJZbC4fnJdiI"
      }
    },
    {
      "cell_type": "code",
      "source": [
        "y_predict_13 = regressor.predict([[13]])\n",
        "y_predict_13"
      ],
      "metadata": {
        "id": "S12ullGqc0iE",
        "outputId": "2aa1b80a-3f6a-4669-f4db-c4d21012a702",
        "colab": {
          "base_uri": "https://localhost:8080/"
        }
      },
      "execution_count": null,
      "outputs": [
        {
          "output_type": "execute_result",
          "data": {
            "text/plain": [
              "array([231.66805098])"
            ]
          },
          "metadata": {},
          "execution_count": 8
        }
      ]
    },
    {
      "cell_type": "markdown",
      "source": [
        "Plot residuals"
      ],
      "metadata": {
        "id": "Fq4JhItjJksa"
      }
    },
    {
      "cell_type": "code",
      "source": [
        "plt.scatter(x,y-y_predict, color = 'red')\n",
        "plt.plot([x.min(),x.max()],[0,0], color ='green')\n",
        "plt.title('Ice cream sales')\n",
        "plt.xlabel('Temp (C)')\n",
        "plt.ylabel('Error ($)')\n",
        "plt.show()"
      ],
      "metadata": {
        "id": "E08_yENucDSe",
        "outputId": "983211b8-6e71-43eb-a5e3-c5d693d56870",
        "colab": {
          "base_uri": "https://localhost:8080/",
          "height": 295
        }
      },
      "execution_count": 10,
      "outputs": [
        {
          "output_type": "display_data",
          "data": {
            "text/plain": [
              "<Figure size 432x288 with 1 Axes>"
            ],
            "image/png": "[encoded data removed]"
          },
          "metadata": {
            "needs_background": "light"
          }
        }
      ]
    },
    {
      "cell_type": "markdown",
      "source": [
        "Show metrics of model goodness"
      ],
      "metadata": {
        "id": "22aBkWGGJo-9"
      }
    },
    {
      "cell_type": "code",
      "source": [
        "from sklearn import metrics\n",
        "metrics.mean_squared_error(y, y_predict)\n",
        "MSE = metrics.mean_squared_error(y, y_predict)\n",
        "print(\"MSE: {:.4f}\".format(MSE))\n",
        "R2 = regressor.score(x,y)\n",
        "print(\"R^2: {:.4f}\".format(R2))"
      ],
      "metadata": {
        "id": "u4mNNKxZbb57",
        "outputId": "6ab28fc1-b743-420f-e65a-1dc7e43233dd",
        "colab": {
          "base_uri": "https://localhost:8080/"
        }
      },
      "execution_count": 13,
      "outputs": [
        {
          "output_type": "stream",
          "name": "stdout",
          "text": [
            "MSE: 1211.3584\n",
            "R^2: 0.9168\n"
          ]
        }
      ]
    },
    {
      "cell_type": "markdown",
      "source": [
        "Another way to calculate linear regression model including p=value"
      ],
      "metadata": {
        "id": "B2nQgZ6vJuXV"
      }
    },
    {
      "cell_type": "code",
      "source": [
        "from scipy import stats\n",
        "slope, inter, rval, pval, se = stats.linregress(x.reshape(1,-1),y)\n",
        "print(f'a={slope}')\n",
        "print(f'b={inter}')\n",
        "print(\"R^2: {:.4f}\".format(rval**2))\n",
        "print(\"p-val: {:.4f}\".format(pval))"
      ],
      "metadata": {
        "id": "TXNWm6CaqOA_",
        "outputId": "bf161b05-e8a4-41a9-852a-95045e8f42e8",
        "colab": {
          "base_uri": "https://localhost:8080/"
        }
      },
      "execution_count": 16,
      "outputs": [
        {
          "output_type": "stream",
          "name": "stdout",
          "text": [
            "a=30.087861794245196\n",
            "b=-159.47415234086242\n",
            "R^2: 0.9168\n",
            "p-val: nan\n"
          ]
        },
        {
          "output_type": "stream",
          "name": "stderr",
          "text": [
            "/usr/local/lib/python3.7/dist-packages/scipy/stats/_stats_mstats_common.py:184: RuntimeWarning: invalid value encountered in sqrt\n",
            "  t = r * np.sqrt(df / ((1.0 - r + TINY)*(1.0 + r + TINY)))\n",
            "/usr/local/lib/python3.7/dist-packages/scipy/stats/_stats_mstats_common.py:187: RuntimeWarning: invalid value encountered in sqrt\n",
            "  slope_stderr = np.sqrt((1 - r**2) * ssym / ssxm / df)\n"
          ]
        }
      ]
    },
    {
      "cell_type": "markdown",
      "source": [
        "Another larger Data Set we will split data to train and test"
      ],
      "metadata": {
        "id": "VFq_ohFMb7Hi"
      }
    },
    {
      "cell_type": "code",
      "execution_count": 17,
      "metadata": {
        "id": "bKggYlrnzFIa"
      },
      "outputs": [],
      "source": [
        "df =pd.read_csv(\"mlcourse/data/Salary_Data.csv\")"
      ]
    },
    {
      "cell_type": "code",
      "execution_count": 18,
      "metadata": {
        "id": "cAilHcSlzFIb",
        "outputId": "83669ffc-37be-496a-f53a-14ae9de11b6f",
        "colab": {
          "base_uri": "https://localhost:8080/",
          "height": 206
        }
      },
      "outputs": [
        {
          "output_type": "execute_result",
          "data": {
            "text/plain": [
              "   YearsExperience   Salary\n",
              "0              1.1  39343.0\n",
              "1              1.3  46205.0\n",
              "2              1.5  37731.0\n",
              "3              2.0  43525.0\n",
              "4              2.2  39891.0"
            ],
            "text/html": [
              "\n",
              "  <div id=\"df-c8dbeddb-7ff2-495f-972e-62ee5fac0a87\">\n",
              "    <div class=\"colab-df-container\">\n",
              "      <div>\n",
              "<style scoped>\n",
              "    .dataframe tbody tr th:only-of-type {\n",
              "        vertical-align: middle;\n",
              "    }\n",
              "\n",
              "    .dataframe tbody tr th {\n",
              "        vertical-align: top;\n",
              "    }\n",
              "\n",
              "    .dataframe thead th {\n",
              "        text-align: right;\n",
              "    }\n",
              "</style>\n",
              "<table border=\"1\" class=\"dataframe\">\n",
              "  <thead>\n",
              "    <tr style=\"text-align: right;\">\n",
              "      <th></th>\n",
              "      <th>YearsExperience</th>\n",
              "      <th>Salary</th>\n",
              "    </tr>\n",
              "  </thead>\n",
              "  <tbody>\n",
              "    <tr>\n",
              "      <th>0</th>\n",
              "      <td>1.1</td>\n",
              "      <td>39343.0</td>\n",
              "    </tr>\n",
              "    <tr>\n",
              "      <th>1</th>\n",
              "      <td>1.3</td>\n",
              "      <td>46205.0</td>\n",
              "    </tr>\n",
              "    <tr>\n",
              "      <th>2</th>\n",
              "      <td>1.5</td>\n",
              "      <td>37731.0</td>\n",
              "    </tr>\n",
              "    <tr>\n",
              "      <th>3</th>\n",
              "      <td>2.0</td>\n",
              "      <td>43525.0</td>\n",
              "    </tr>\n",
              "    <tr>\n",
              "      <th>4</th>\n",
              "      <td>2.2</td>\n",
              "      <td>39891.0</td>\n",
              "    </tr>\n",
              "  </tbody>\n",
              "</table>\n",
              "</div>\n",
              "      <button class=\"colab-df-convert\" onclick=\"convertToInteractive('df-c8dbeddb-7ff2-495f-972e-62ee5fac0a87')\"\n",
              "              title=\"Convert this dataframe to an interactive table.\"\n",
              "              style=\"display:none;\">\n",
              "        \n",
              "  <svg xmlns=\"http://www.w3.org/2000/svg\" height=\"24px\"viewBox=\"0 0 24 24\"\n",
              "       width=\"24px\">\n",
              "    <path d=\"M0 0h24v24H0V0z\" fill=\"none\"/>\n",
              "    <path d=\"M18.56 5.44l.94 2.06.94-2.06 2.06-.94-2.06-.94-.94-2.06-.94 2.06-2.06.94zm-11 1L8.5 8.5l.94-2.06 2.06-.94-2.06-.94L8.5 2.5l-.94 2.06-2.06.94zm10 10l.94 2.06.94-2.06 2.06-.94-2.06-.94-.94-2.06-.94 2.06-2.06.94z\"/><path d=\"M17.41 7.96l-1.37-1.37c-.4-.4-.92-.59-1.43-.59-.52 0-1.04.2-1.43.59L10.3 9.45l-7.72 7.72c-.78.78-.78 2.05 0 2.83L4 21.41c.39.39.9.59 1.41.59.51 0 1.02-.2 1.41-.59l7.78-7.78 2.81-2.81c.8-.78.8-2.07 0-2.86zM5.41 20L4 18.59l7.72-7.72 1.47 1.35L5.41 20z\"/>\n",
              "  </svg>\n",
              "      </button>\n",
              "      \n",
              "  <style>\n",
              "    .colab-df-container {\n",
              "      display:flex;\n",
              "      flex-wrap:wrap;\n",
              "      gap: 12px;\n",
              "    }\n",
              "\n",
              "    .colab-df-convert {\n",
              "      background-color: #E8F0FE;\n",
              "      border: none;\n",
              "      border-radius: 50%;\n",
              "      cursor: pointer;\n",
              "      display: none;\n",
              "      fill: #1967D2;\n",
              "      height: 32px;\n",
              "      padding: 0 0 0 0;\n",
              "      width: 32px;\n",
              "    }\n",
              "\n",
              "    .colab-df-convert:hover {\n",
              "      background-color: #E2EBFA;\n",
              "      box-shadow: 0px 1px 2px rgba(60, 64, 67, 0.3), 0px 1px 3px 1px rgba(60, 64, 67, 0.15);\n",
              "      fill: #174EA6;\n",
              "    }\n",
              "\n",
              "    [theme=dark] .colab-df-convert {\n",
              "      background-color: #3B4455;\n",
              "      fill: #D2E3FC;\n",
              "    }\n",
              "\n",
              "    [theme=dark] .colab-df-convert:hover {\n",
              "      background-color: #434B5C;\n",
              "      box-shadow: 0px 1px 3px 1px rgba(0, 0, 0, 0.15);\n",
              "      filter: drop-shadow(0px 1px 2px rgba(0, 0, 0, 0.3));\n",
              "      fill: #FFFFFF;\n",
              "    }\n",
              "  </style>\n",
              "\n",
              "      <script>\n",
              "        const buttonEl =\n",
              "          document.querySelector('#df-c8dbeddb-7ff2-495f-972e-62ee5fac0a87 button.colab-df-convert');\n",
              "        buttonEl.style.display =\n",
              "          google.colab.kernel.accessAllowed ? 'block' : 'none';\n",
              "\n",
              "        async function convertToInteractive(key) {\n",
              "          const element = document.querySelector('#df-c8dbeddb-7ff2-495f-972e-62ee5fac0a87');\n",
              "          const dataTable =\n",
              "            await google.colab.kernel.invokeFunction('convertToInteractive',\n",
              "                                                     [key], {});\n",
              "          if (!dataTable) return;\n",
              "\n",
              "          const docLinkHtml = 'Like what you see? Visit the ' +\n",
              "            '<a target=\"_blank\" href=https://colab.research.google.com/notebooks/data_table.ipynb>data table notebook</a>'\n",
              "            + ' to learn more about interactive tables.';\n",
              "          element.innerHTML = '';\n",
              "          dataTable['output_type'] = 'display_data';\n",
              "          await google.colab.output.renderOutput(dataTable, element);\n",
              "          const docLink = document.createElement('div');\n",
              "          docLink.innerHTML = docLinkHtml;\n",
              "          element.appendChild(docLink);\n",
              "        }\n",
              "      </script>\n",
              "    </div>\n",
              "  </div>\n",
              "  "
            ]
          },
          "metadata": {},
          "execution_count": 18
        }
      ],
      "source": [
        "df.head()"
      ]
    },
    {
      "cell_type": "code",
      "execution_count": 23,
      "metadata": {
        "id": "krhip4SPzFIc",
        "outputId": "7bce136b-e20a-4a2f-d79c-b6c15403766c",
        "colab": {
          "base_uri": "https://localhost:8080/"
        }
      },
      "outputs": [
        {
          "output_type": "execute_result",
          "data": {
            "text/plain": [
              "array([ 39343.,  46205.,  37731.,  43525.,  39891.,  56642.,  60150.,\n",
              "        54445.,  64445.,  57189.,  63218.,  55794.,  56957.,  57081.,\n",
              "        61111.,  67938.,  66029.,  83088.,  81363.,  93940.,  91738.,\n",
              "        98273., 101302., 113812., 109431., 105582., 116969., 112635.,\n",
              "       122391., 121872.])"
            ]
          },
          "metadata": {},
          "execution_count": 23
        }
      ],
      "source": [
        "x=df.iloc[:,-2].values\n",
        "y=df.iloc[:,-1].values\n",
        "x\n",
        "y"
      ]
    },
    {
      "cell_type": "code",
      "source": [
        "from sklearn.linear_model import LinearRegression\n",
        "regressor = LinearRegression()\n",
        "x = x.reshape(-1, 1)\n",
        "regressor.fit(x,y)\n",
        "y_predict = regressor.predict(x)"
      ],
      "metadata": {
        "id": "7k3IBk0Pcfdr"
      },
      "execution_count": 24,
      "outputs": []
    },
    {
      "cell_type": "markdown",
      "source": [
        "Exercise: For this example \n",
        "\n",
        "1.  Show scatter plot\n",
        "2.  Fit the model get coef a&b\n",
        "3.  Plot data and fittef model\n",
        "4.  Check residuals\n",
        "5.  Calculate MSE and R2"
      ],
      "metadata": {
        "id": "TmVQfQFwLCv6"
      }
    },
    {
      "cell_type": "code",
      "source": [
        "print('The parameters of the model y=ax+b are')\n",
        "print(f'a={regressor.coef_[0]}')\n",
        "print(f'b={regressor.intercept_}')\n"
      ],
      "metadata": {
        "id": "oRrKzDHl_qAO",
        "outputId": "c01d41df-3ada-440e-c301-75fc6bada7d4",
        "colab": {
          "base_uri": "https://localhost:8080/"
        }
      },
      "execution_count": 25,
      "outputs": [
        {
          "output_type": "stream",
          "name": "stdout",
          "text": [
            "The parameters of the model y=ax+b are\n",
            "a=9449.962321455076\n",
            "b=25792.200198668696\n"
          ]
        }
      ]
    },
    {
      "cell_type": "code",
      "source": [
        "plt.scatter(x,y, color = 'red')\n",
        "plt.plot(x,y_predict, color ='blue')\n",
        "plt.title('years')\n",
        "plt.ylabel('Salary ($)')\n",
        "plt.show()"
      ],
      "metadata": {
        "id": "qUHVjSNDc-Z-",
        "outputId": "d674d1c6-a810-4a94-9796-57d0b4236958",
        "colab": {
          "base_uri": "https://localhost:8080/",
          "height": 281
        }
      },
      "execution_count": 32,
      "outputs": [
        {
          "output_type": "display_data",
          "data": {
            "text/plain": [
              "<Figure size 432x288 with 1 Axes>"
            ],
            "image/png": "[encoded data removed]"
          },
          "metadata": {
            "needs_background": "light"
          }
        }
      ]
    },
    {
      "cell_type": "code",
      "source": [
        "plt.scatter(x,y-y_predict, color = 'red')\n",
        "plt.plot([x.min(),x.max()],[0,0], color ='green')\n",
        "plt.title('Salary')\n",
        "plt.xlabel('years')\n",
        "plt.ylabel('Salary ($)')\n",
        "plt.show()"
      ],
      "metadata": {
        "id": "R5DSWMISdFd1",
        "outputId": "8d4cbdbb-27c9-423a-ee35-faaabbd00a5b",
        "colab": {
          "base_uri": "https://localhost:8080/",
          "height": 295
        }
      },
      "execution_count": 33,
      "outputs": [
        {
          "output_type": "display_data",
          "data": {
            "text/plain": [
              "<Figure size 432x288 with 1 Axes>"
            ],
            "image/png": "[encoded data removed]"
          },
          "metadata": {
            "needs_background": "light"
          }
        }
      ]
    },
    {
      "cell_type": "code",
      "source": [
        "from sklearn import metrics\n",
        "metrics.mean_squared_error(y, y_predict)\n",
        "MSE = metrics.mean_squared_error(y, y_predict)\n",
        "print(\"MSE: {:.4f}\".format(MSE))\n",
        "RMSE = MSE**(0.5)\n",
        "print(\"RMSE: {:.4f}\".format(RMSE))\n",
        "R2 = regressor.score(x,y)\n",
        "print(\"R^2: {:.4f}\".format(R2))"
      ],
      "metadata": {
        "id": "TXxKlp_ndLjA",
        "outputId": "7d7cd835-b972-4be6-bbea-da2c51dfee82",
        "colab": {
          "base_uri": "https://localhost:8080/"
        }
      },
      "execution_count": 30,
      "outputs": [
        {
          "output_type": "stream",
          "name": "stdout",
          "text": [
            "MSE: 31270951.7223\n",
            "RMSE: 5592.0436\n",
            "R^2: 0.9570\n"
          ]
        }
      ]
    },
    {
      "cell_type": "code",
      "source": [
        "print(RMSE/y.mean()*100)\n"
      ],
      "metadata": {
        "id": "4pvfFF_of2oE",
        "outputId": "d91dcdd4-c133-4206-a8f1-e265f9f6b61e",
        "colab": {
          "base_uri": "https://localhost:8080/"
        }
      },
      "execution_count": 35,
      "outputs": [
        {
          "output_type": "stream",
          "name": "stdout",
          "text": [
            "7.35766168277655\n"
          ]
        }
      ]
    },
    {
      "cell_type": "markdown",
      "source": [
        "Let's separate it now to train and test to avoid overfit"
      ],
      "metadata": {
        "id": "XGNFAG-z_wq8"
      }
    },
    {
      "cell_type": "code",
      "source": [
        "from sklearn.model_selection import train_test_split\n",
        "x_train,x_test,y_train,y_test = train_test_split(x,y,test_size=0.3,random_state=0)"
      ],
      "metadata": {
        "id": "RIQcdHZGIAn1"
      },
      "execution_count": null,
      "outputs": []
    }
  ],
  "metadata": {
    "kernelspec": {
      "display_name": "Python 3",
      "language": "python",
      "name": "python3"
    },
    "language_info": {
      "codemirror_mode": {
        "name": "ipython",
        "version": 3
      },
      "file_extension": ".py",
      "mimetype": "text/x-python",
      "name": "python",
      "nbconvert_exporter": "python",
      "pygments_lexer": "ipython3",
      "version": "3.8.5"
    },
    "colab": {
      "name": "simple linear regression 1.ipynb",
      "provenance": []
    }
  },
  "nbformat": 4,
  "nbformat_minor": 0
}